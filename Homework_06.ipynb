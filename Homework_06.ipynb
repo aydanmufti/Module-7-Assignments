{
  "cells": [
    {
      "cell_type": "markdown",
      "metadata": {
        "id": "view-in-github",
        "colab_type": "text"
      },
      "source": [
        "<a href=\"https://colab.research.google.com/github/aydanmufti/Module-7-Assignments/blob/main/Homework_06.ipynb\" target=\"_parent\"><img src=\"https://colab.research.google.com/assets/colab-badge.svg\" alt=\"Open In Colab\"/></a>"
      ]
    },
    {
      "cell_type": "markdown",
      "metadata": {
        "id": "E_N2ztyX4tsu"
      },
      "source": [
        "# Homework 6: N-Gram Language Models with the Brown Corpus\n",
        "\n",
        "## Due: Midnight on October 12th @ Midnight (with 2-hour grace period) and worth 85 points.\n",
        "\n",
        "## As announced, I'll not start to count late days until midnight on 10/13 (with same grace period).\n",
        "\n",
        "In this assignment you’ll practice **probabilistic language modeling (PLM)** by building N-Gram models that generate text. Along the way, you’ll develop the core pieces of a language model: estimating probabilities, calculating sentence likelihoods, and generating text with different strategies. The goal is to understand *how simple statistical models can produce coherent language*, and to explore refinements that make them more expressive.\n",
        "\n",
        "### Learning Objectives\n",
        "\n",
        "* Build and compare **unigram, bigram, and trigram** language models.\n",
        "* Calculate **word and sentence probabilities** (in log-space) and use them to measure **perplexity**.\n",
        "* Implement **probability-based generation** methods, including temperature-scaled sampling.\n",
        "* Explore **beam search** as a way to generate higher-quality sentences.\n",
        "\n",
        "### The four problems (high level)\n",
        "\n",
        "1. **Problem 1 — N-Gram probabilities:**\n",
        "   Build unigram, bigram, and trigram models. Compute next-word probabilities in log space to avoid numerical underflow.\n",
        "\n",
        "2. **Problem 2 — Sentence probability & perplexity:**\n",
        "   Define sentence probability, normalize for sentence length, and calculate perplexity as a measure of model quality.\n",
        "\n",
        "3. **Problem 3 — Controlled generation:**\n",
        "   Implement temperature-controlled sampling to vary randomness in generated sentences. Compare low vs. high temperatures.\n",
        "\n",
        "4. **Problem 4 — Beam search:**\n",
        "   Use perplexity to guide **beam search**, keeping track of the most likely candidate sentences at each step, and compare outputs to greedy generation.\n",
        "\n",
        "By the end, you’ll have a working N-Gram generator capable of producing reasonable and a solid understanding of how early probabilistic approaches to NLP laid the foundation for modern deep learning methods.\n",
        "\n"
      ]
    },
    {
      "cell_type": "markdown",
      "metadata": {
        "id": "EZpvwwzf4tsu"
      },
      "source": [
        "### Recommended Workflow (Must Read!)\n",
        "\n",
        "One of the most important skills in machine learning is following a **disciplined workflow** when developing complex code. The basic idea is simple:\n",
        "\n",
        "1. **Start small:** Write and test your code using a tiny subset of your dataset.\n",
        "2. **Inspect your results:** Print out and examine intermediate outputs to verify that each step behaves as expected.\n",
        "3. **Iterate and tune:** Adjust hyperparameters and continue testing, gradually increasing the subset size as needed.\n",
        "4. **Scale up:** Once you are confident your code is bug-free and your hyperparameters are roughly correct, run it on the **full dataset** to obtain your final results.\n",
        "\n",
        "If you don’t have sufficient computing resources for a full run, use **as large a subset as practical** — provided you’ve begun early enough to allow for multiple iterations.\n",
        "\n",
        "\n",
        "To help you follow this workflow in this homework, I’ve included a variable `num_sentences` that controls how many sentences are used from the shuffled Brown Corpus.\n",
        "\n",
        "I recommend the following progression:\n",
        "\n",
        "* **Step 1:** Begin with `num_sentences = 10` to debug and print out intermediate data structures (such as dictionaries) to confirm that your code works as expected.\n",
        "* **Step 2:** Increase to `num_sentences = 100` to verify correctness and complete most of the homework efficiently.\n",
        "* **Step 3:** Finally, if possible, run with the full dataset (`num_sentences = 57_340`), or as large a subset as your resources allow, to answer the graded questions.\n",
        "\n",
        "\n",
        "There are 9 problems in this homework, each worth 9 points each, and you get 4 points free if you otherwise complete the homework."
      ]
    },
    {
      "cell_type": "markdown",
      "metadata": {
        "id": "Inf91aCh4tsv"
      },
      "source": [
        "#### Useful Imports (add more as needed)"
      ]
    },
    {
      "cell_type": "code",
      "execution_count": 1,
      "metadata": {
        "id": "aPMn77_W4tsv"
      },
      "outputs": [],
      "source": [
        "import math\n",
        "import re\n",
        "import string\n",
        "import random\n",
        "import spacy\n",
        "import numpy as np\n",
        "import pandas as pd\n",
        "from tqdm import tqdm\n",
        "from matplotlib import pyplot as plt\n",
        "from collections import Counter\n",
        "\n",
        "random.seed(42)"
      ]
    },
    {
      "cell_type": "code",
      "execution_count": 2,
      "metadata": {
        "id": "DT4p_uAq4tsv"
      },
      "outputs": [],
      "source": [
        "'''\n",
        "Reconstruct a human-readable sentence from tokens.\n",
        "- Capitalize the first token (after removing <s>).\n",
        "- Attach any token in string.punctuation with no preceding space.\n",
        "- Attach tokens starting with an apostrophe (e.g., \"'s\", \"'ll\") with no space.\n",
        "- Capitalize standalone 'i' and 'god' wherever they appear.\n",
        "- If the last token is '.', '?', or '!', attach it without a space.\n",
        "- Ignore boundary markers <s> and </s> if present.\n",
        "Returns the sentence string and also prints it depending on flag parameter.\n",
        "'''\n",
        "\n",
        "def print_sentence(tokens, do_print=True):\n",
        "\n",
        "    if not tokens:\n",
        "        print(\"\")\n",
        "        return \"\"\n",
        "\n",
        "    # Drop boundary markers if present\n",
        "    start = 1 if tokens and tokens[0] == \"<s>\" else 0\n",
        "    end = -1 if tokens and tokens[-1] == \"</s>\" else len(tokens)\n",
        "    core = tokens[start:end]\n",
        "\n",
        "    if not core:\n",
        "        print(\"\")\n",
        "        return \"\"\n",
        "\n",
        "    # Capitalize first token\n",
        "    out = core[0].capitalize()\n",
        "\n",
        "    # Process remaining tokens with spacing rules\n",
        "    for i, t in enumerate(core[1:], start=1):\n",
        "        is_last = (i == len(core) - 1)\n",
        "\n",
        "        # Last-token punctuation rule\n",
        "        if is_last and t in {\".\", \"?\", \"!\"}:\n",
        "            out += t\n",
        "            continue\n",
        "\n",
        "        # General punctuation attaches with no space (e.g., ',', ':', ';', ')', etc.)\n",
        "        if t in string.punctuation:\n",
        "            out += t\n",
        "            continue\n",
        "\n",
        "        # Apostrophe-start tokens like \"'s\", \"'d\", \"'ll\"\n",
        "        if t.startswith(\"'\"):\n",
        "            out += t\n",
        "            continue\n",
        "\n",
        "        # Capitalize special standalone words\n",
        "        if t.lower() in {\"i\", \"god\"}:\n",
        "            out += \" \" + t.capitalize()\n",
        "            continue\n",
        "\n",
        "        # Default: add a space before normal words\n",
        "        out += \" \" + t\n",
        "\n",
        "    if do_print:\n",
        "        print(out)\n",
        "    return out\n"
      ]
    },
    {
      "cell_type": "markdown",
      "metadata": {
        "id": "dtodqkBS4tsv"
      },
      "source": [
        "### Read in the list of all sentences in the Brown Corpus and process using SPaCy."
      ]
    },
    {
      "cell_type": "code",
      "execution_count": 3,
      "metadata": {
        "id": "Pk1ek-Tz4tsv",
        "outputId": "711876d7-ef97-4635-d919-9ac1ab69b2ae",
        "colab": {
          "base_uri": "https://localhost:8080/"
        }
      },
      "outputs": [
        {
          "output_type": "stream",
          "name": "stdout",
          "text": [
            "Requirement already satisfied: nltk in /usr/local/lib/python3.12/dist-packages (3.9.1)\n",
            "Requirement already satisfied: click in /usr/local/lib/python3.12/dist-packages (from nltk) (8.3.0)\n",
            "Requirement already satisfied: joblib in /usr/local/lib/python3.12/dist-packages (from nltk) (1.5.2)\n",
            "Requirement already satisfied: regex>=2021.8.3 in /usr/local/lib/python3.12/dist-packages (from nltk) (2024.11.6)\n",
            "Requirement already satisfied: tqdm in /usr/local/lib/python3.12/dist-packages (from nltk) (4.67.1)\n"
          ]
        }
      ],
      "source": [
        "# Must do this the first time to get the Natural Language ToolKit\n",
        "\n",
        "!pip install nltk"
      ]
    },
    {
      "cell_type": "code",
      "execution_count": 4,
      "metadata": {
        "id": "Bi0MdmZT4tsv",
        "outputId": "bee6b78b-312c-401c-c88a-0b0aae567b07",
        "colab": {
          "base_uri": "https://localhost:8080/"
        }
      },
      "outputs": [
        {
          "output_type": "stream",
          "name": "stderr",
          "text": [
            "[nltk_data] Downloading package brown to /root/nltk_data...\n",
            "[nltk_data]   Unzipping corpora/brown.zip.\n",
            "/usr/local/lib/python3.12/dist-packages/spacy/pipeline/lemmatizer.py:188: UserWarning: [W108] The rule-based lemmatizer did not find POS annotation for one or more tokens. Check that your pipeline includes components that assign token.pos, typically 'tagger'+'attribute_ruler' or 'morphologizer'.\n",
            "  warnings.warn(Warnings.W108)\n"
          ]
        }
      ],
      "source": [
        "import nltk\n",
        "from nltk.corpus import brown\n",
        "import spacy\n",
        "\n",
        "nltk.download('brown')\n",
        "\n",
        "# Get all Brown corpus sentences as raw text\n",
        "# Brown is organized into categories, we flatten it into one list of sentences and shuffle\n",
        "# so we can create a shorter list for testing\n",
        "\n",
        "brown_texts = [\" \".join(sent) for sent in brown.sents()]\n",
        "\n",
        "random.shuffle(brown_texts)\n",
        "\n",
        "# Brown has 57_340 sentences, set `num_sentences` to 1000 or smaller for testing\n",
        "\n",
        "# num_sentences = 57_340\n",
        "# num_sentences = 10                           # <<<<<=====    Here is where you can change the size of the dataset\n",
        "num_sentences = 100\n",
        "\n",
        "brown_texts = brown_texts[:num_sentences]\n",
        "\n",
        "# Load spaCy English pipeline\n",
        "nlp = spacy.load(\"en_core_web_sm\")\n",
        "\n",
        "# Process with spaCy: tokenize + sentencize\n",
        "docs = list(nlp.pipe(brown_texts, disable=[\"ner\", \"tagger\", \"parser\"]))\n",
        "\n",
        "# Each doc is one sentence; extract tokens and add beginning and ending tokens <s> ... </s>\n",
        "tokenized_sentences = [ ['<s>'] + [token.text.lower() for token in doc if not token.is_space] + ['</s>'] for doc in docs ]"
      ]
    },
    {
      "cell_type": "markdown",
      "metadata": {
        "id": "299RvIuh4tsv"
      },
      "source": [
        "#### If you have trouble downloading this...\n",
        "\n",
        "\n",
        "I have uploaded a file `brown_sentences.txt` to a Google Drive folder which anyone with the link can read, just\n",
        "uncomment the code in the next cell and run it:"
      ]
    },
    {
      "cell_type": "code",
      "execution_count": 5,
      "metadata": {
        "id": "VMoPkMde4tsv",
        "outputId": "95c0a523-609d-4880-8138-6080b4d9b025",
        "colab": {
          "base_uri": "https://localhost:8080/",
          "height": 122
        }
      },
      "outputs": [
        {
          "output_type": "execute_result",
          "data": {
            "text/plain": [
              "'\\nimport re, requests, random, spacy\\n\\n# Paste the shared Drive link (no need to change anything else)\\nlink = \"https://drive.google.com/file/d/1f_BkNDF0ny11Tn4D4jsOoXhgPSUCHKlf/view?usp=drive_link\"\\n\\n# --- Convert to direct download URL ---\\ndef get_direct_download_url(link):\\n    match = re.search(r\"/d/([a-zA-Z0-9_-]+)\", link) or re.search(r\"id=([a-zA-Z0-9_-]+)\", link)\\n    if not match:\\n        raise ValueError(\"Could not extract file ID from the link.\")\\n    file_id = match.group(1)\\n    return f\"https://drive.google.com/uc?export=download&id={file_id}\"\\n\\nurl = get_direct_download_url(link)\\n\\n# --- Download and prepare the text ---\\nresponse = requests.get(url)\\nlines = response.text.strip().split(\"\\n\")\\n\\nrandom.shuffle(lines)\\n\\n\\n# Etc as before\\n'"
            ],
            "application/vnd.google.colaboratory.intrinsic+json": {
              "type": "string"
            }
          },
          "metadata": {},
          "execution_count": 5
        }
      ],
      "source": [
        "'''\n",
        "import re, requests, random, spacy\n",
        "\n",
        "# Paste the shared Drive link (no need to change anything else)\n",
        "link = \"https://drive.google.com/file/d/1f_BkNDF0ny11Tn4D4jsOoXhgPSUCHKlf/view?usp=drive_link\"\n",
        "\n",
        "# --- Convert to direct download URL ---\n",
        "def get_direct_download_url(link):\n",
        "    match = re.search(r\"/d/([a-zA-Z0-9_-]+)\", link) or re.search(r\"id=([a-zA-Z0-9_-]+)\", link)\n",
        "    if not match:\n",
        "        raise ValueError(\"Could not extract file ID from the link.\")\n",
        "    file_id = match.group(1)\n",
        "    return f\"https://drive.google.com/uc?export=download&id={file_id}\"\n",
        "\n",
        "url = get_direct_download_url(link)\n",
        "\n",
        "# --- Download and prepare the text ---\n",
        "response = requests.get(url)\n",
        "lines = response.text.strip().split(\"\\n\")\n",
        "\n",
        "random.shuffle(lines)\n",
        "\n",
        "\n",
        "# Etc as before\n",
        "'''"
      ]
    },
    {
      "cell_type": "code",
      "execution_count": 6,
      "metadata": {
        "id": "DcYizV8G4tsv",
        "outputId": "7beda80b-91d8-4709-f4ba-61371ec76913",
        "colab": {
          "base_uri": "https://localhost:8080/"
        }
      },
      "outputs": [
        {
          "output_type": "stream",
          "name": "stdout",
          "text": [
            "Number of sentences: 100\n",
            "First sentence:      He let her tell him all about the church.\n",
            "Tokenized sentence: ['<s>', 'he', 'let', 'her', 'tell', 'him', 'all', 'about', 'the', 'church', '.', '</s>']\n"
          ]
        }
      ],
      "source": [
        "print(\"Number of sentences:\", len(tokenized_sentences))\n",
        "print(\"First sentence:      \",end='')\n",
        "print_sentence(tokenized_sentences[0])\n",
        "print(\"Tokenized sentence: \",end='')\n",
        "print(tokenized_sentences[0])"
      ]
    },
    {
      "cell_type": "markdown",
      "metadata": {
        "id": "AyOUb3D44tsw"
      },
      "source": [
        "### A Little EDA...."
      ]
    },
    {
      "cell_type": "code",
      "execution_count": 7,
      "metadata": {
        "id": "avIhmcnY4tsw",
        "outputId": "9704039d-c2fd-451d-b47d-117ae90ac76d",
        "colab": {
          "base_uri": "https://localhost:8080/"
        }
      },
      "outputs": [
        {
          "output_type": "stream",
          "name": "stdout",
          "text": [
            "Total number of characters in the text: 11,495\n",
            "Total number of tokens:    2,187\n",
            "Number of unique tokens:   990\n",
            "Total number of sentences: 100\n",
            "Total number of words:     1,860\n",
            "Number of unique words:    950\n",
            "\n",
            "Top 10 words:\n",
            "the            : 138\n",
            "of             : 83\n",
            "and            : 57\n",
            "to             : 46\n",
            "a              : 43\n",
            "in             : 34\n",
            "that           : 21\n",
            "was            : 20\n",
            "by             : 17\n",
            "is             : 17\n",
            "\n",
            "Bottom 10 words:\n",
            "overseas       : 1\n",
            "government     : 1\n",
            "through        : 1\n",
            "organizations  : 1\n",
            "help           : 1\n",
            "foreign        : 1\n",
            "countries      : 1\n",
            "needs          : 1\n",
            "skilled        : 1\n",
            "manpower       : 1\n"
          ]
        }
      ],
      "source": [
        "# Flatten tokens (exclude spaces)\n",
        "all_tokens = [tok.text.lower() for sent in docs for tok in sent if not tok.is_space]\n",
        "\n",
        "# Define \"word\": alphabetic, or alphabetic after removing internal apostrophes\n",
        "def is_word(tok):\n",
        "    s = tok.text\n",
        "    return s.isalpha() or s.replace(\"'\", \"\").isalpha()\n",
        "\n",
        "# Extract words using the definition above\n",
        "words = [\n",
        "    tok.text.lower()\n",
        "    for sent in docs\n",
        "    for tok in sent\n",
        "    if not tok.is_space and is_word(tok)\n",
        "]\n",
        "\n",
        "# Counts\n",
        "num_chars = sum(len(s) for s in brown_texts)   # or len(text) if you started from one big text\n",
        "num_tokens = len(all_tokens)\n",
        "num_unique_tokens = len(set(all_tokens))\n",
        "num_sentences = len(docs)\n",
        "num_words = len(words)\n",
        "num_unique_words = len(set(words))\n",
        "\n",
        "print(f\"Total number of characters in the text: {num_chars:,}\")\n",
        "print(f\"Total number of tokens:    {num_tokens:,}\")\n",
        "print(f\"Number of unique tokens:   {num_unique_tokens:,}\")\n",
        "print(f\"Total number of sentences: {num_sentences:,}\")\n",
        "print(f\"Total number of words:     {num_words:,}\")\n",
        "print(f\"Number of unique words:    {num_unique_words:,}\")\n",
        "\n",
        "# Frequencies\n",
        "word_counts = Counter(words)\n",
        "most_common_words = word_counts.most_common()\n",
        "\n",
        "# Top 10\n",
        "print(\"\\nTop 10 words:\")\n",
        "for token, freq in most_common_words[:10]:\n",
        "    print(f\"{token:<15}: {freq:,}\")\n",
        "\n",
        "# Bottom 10\n",
        "print(\"\\nBottom 10 words:\")\n",
        "for token, freq in most_common_words[-10:]:\n",
        "    print(f\"{token:<15}: {freq:,}\")"
      ]
    },
    {
      "cell_type": "markdown",
      "metadata": {
        "id": "gO2Yls_R4tsw"
      },
      "source": [
        "### Digression: Zipf's Law\n",
        "\n",
        "Zipf's Law is an empirical regularity of natural language:  \n",
        "if you rank words by their frequency in a corpus, the frequency \\( f(r) \\) of the word at rank \\( r \\) is approximately inversely proportional to its rank:\n",
        "\n",
        "$$\n",
        "f(r) \\propto \\frac{1}{r^k}\n",
        "$$\n",
        "\n",
        "where $ r = 1, 2, 3, \\dots $ is the rank of a word (1 = most frequent), and $ k \\approx 1 $.  \n",
        "\n",
        "- The most common words (e.g., *the*, *of*, *and*) occur very often.  \n",
        "- A handful of mid-ranked words occur moderately often.  \n",
        "- The vast majority of words occur rarely.  \n",
        "\n",
        "On a **log–log plot** of frequency vs. rank, this relationship appears as a straight line with slope \\(-k\\).  \n",
        "For natural language, empirical studies show that $k \\approx 1$, which is why we plot below a reference line with slope $-1$ to compare against real corpus data.\n",
        "\n",
        "\n",
        "**Why this matters:** Because most words are rare, language models must use techniques like **smoothing, subword modeling, or embeddings** to handle sparsity and represent meaning effectively.  \n"
      ]
    },
    {
      "cell_type": "code",
      "execution_count": 8,
      "metadata": {
        "id": "TRsSKxQU4tsw",
        "outputId": "8d6ef923-f5f9-44a4-9474-27f3bd52e44f",
        "colab": {
          "base_uri": "https://localhost:8080/",
          "height": 931
        }
      },
      "outputs": [
        {
          "output_type": "display_data",
          "data": {
            "text/plain": [
              "<Figure size 800x500 with 1 Axes>"
            ],
            "image/png": "[encoded data removed]"
          },
          "metadata": {}
        },
        {
          "output_type": "display_data",
          "data": {
            "text/plain": [
              "<Figure size 800x400 with 1 Axes>"
            ],
            "image/png": "[encoded data removed]"
          },
          "metadata": {}
        },
        {
          "output_type": "stream",
          "name": "stdout",
          "text": [
            "Average sentence length: 21.87 tokens\n",
            "Max sentence length:     75 tokens\n"
          ]
        }
      ],
      "source": [
        "# Frequencies sorted by rank\n",
        "freqs = np.array([freq for token, freq in word_counts.most_common()])\n",
        "ranks = np.arange(1, len(freqs) + 1)\n",
        "\n",
        "plt.figure(figsize=(8, 5))\n",
        "plt.plot(ranks, freqs, label=\"Corpus data\")\n",
        "\n",
        "# Reference line: slope = -1 (Zipf’s law)\n",
        "# Match scale by anchoring at the first frequency\n",
        "ref_line = freqs[0] / ranks\n",
        "plt.plot(ranks, ref_line, \"--\", label=\"Reference slope = -1\")\n",
        "\n",
        "plt.xscale(\"log\")\n",
        "plt.yscale(\"log\")\n",
        "plt.title(\"Token Frequencies vs. Rank (Zipf’s Law)\")\n",
        "plt.xlabel(\"Rank of token\")\n",
        "plt.ylabel(\"Frequency of token\")\n",
        "plt.grid(True, which=\"both\", ls=\"--\", alpha=0.6)\n",
        "plt.legend()\n",
        "plt.tight_layout()\n",
        "plt.show()\n",
        "\n",
        "# Compute sentence lengths from spaCy docs\n",
        "sentence_lengths = [len([tok for tok in sent if not tok.is_space]) for sent in docs]\n",
        "\n",
        "# Plot histogram\n",
        "plt.figure(figsize=(8, 4))\n",
        "plt.hist(\n",
        "    sentence_lengths,\n",
        "    bins=range(1, max(sentence_lengths) + 2),\n",
        "    color=\"skyblue\",\n",
        "    edgecolor=\"black\"\n",
        ")\n",
        "plt.title(\"Histogram of Sentence Lengths\")\n",
        "plt.xlabel(\"Sentence length (in tokens)\")\n",
        "plt.ylabel(\"Number of sentences\")\n",
        "plt.tight_layout()\n",
        "plt.show()\n",
        "\n",
        "print(f\"Average sentence length: {sum(sentence_lengths)/len(sentence_lengths):.2f} tokens\")\n",
        "print(f\"Max sentence length:     {max(sentence_lengths)} tokens\")"
      ]
    },
    {
      "cell_type": "markdown",
      "metadata": {
        "id": "oS5Za_Ne4tsw"
      },
      "source": [
        "## Problem One — Build the PLM (bigrams & trigrams)\n",
        "\n",
        "For this problem, you must adapt (mostly cut-and-paste) the code from this week’s Coding Notebook to the new dataset. You are using a trigram model as well as bigrams but your professor has written code that should mostly work for any N.\n",
        "\n",
        "We provide a pre-processed dataset above, with sentences already tokenized and enclosed in the boundary tokens `<s>` and `</s>`.\n",
        "\n",
        "**Set `num_sentences=10` to start!**\n",
        "\n",
        "**ToDo:**\n",
        "\n",
        "**A.** Build N-grams for N = 2, 3\n",
        "\n",
        "- Compute all bigrams and trigrams over the tokenized sentences (boundary tokens included).\n",
        "\n",
        "**B.** Create a dictionary mapping left-contexts to next-word lists\n",
        "\n",
        "- For each N, map each context (length N−1) to a list of next tokens (allow duplicates so frequency = count).\n",
        "\n",
        "**C.** Convert to (log) probability distributions\n",
        "\n",
        "- Turn each context’s next-word list into a distribution of log-probabilities (see **Appendix Two**).\n",
        "\n",
        "**D.** Create the Probability Language Model (PLM)\n",
        "\n",
        "- Create a dictionary `get_next_word` with:\n",
        "\n",
        "    - Key: left context (tuple of 1 token for bigrams; 2 tokens for trigrams).\n",
        "    \n",
        "    - Values: nested dictionary mapping next tokens to log-probabilities `{next_token: log_prob, ...}`.\n",
        "\n",
        "- Create a **single dictionary** (since bigrams and trigrams have a left context of different lengths, and they won't get confused in the dictionary).\n",
        "\n",
        "\n",
        "**E.** Set the variable `num_sentences = 10` and do a sanity check by displaying the distribution for the bigram contexts e.g., `('<s>',)` and `('the',)` and a trigram context `('<s>','the')`. If for some reason these are not present, increase the number of sentences slightly.  \n",
        "\n",
        "**F.**  Generate 5 next words for each of the 3 examples in the previous part.\n",
        "\n",
        "**Then answer the graded questions.**"
      ]
    },
    {
      "cell_type": "code",
      "execution_count": 9,
      "metadata": {
        "id": "5C7GsQNy4tsw",
        "outputId": "eb90a4df-dde0-468c-8b81-5090b92d16c2",
        "colab": {
          "base_uri": "https://localhost:8080/"
        }
      },
      "outputs": [
        {
          "output_type": "stream",
          "name": "stdout",
          "text": [
            "First sentence: ['<s>', 'he', 'let', 'her', 'tell', 'him', 'all', 'about', 'the', 'church', '.', '</s>']\n",
            "\n",
            "Bigrams:\n",
            "[('<s>', 'he'), ('he', 'let'), ('let', 'her'), ('her', 'tell'), ('tell', 'him'), ('him', 'all'), ('all', 'about'), ('about', 'the'), ('the', 'church'), ('church', '.'), ('.', '</s>')]\n",
            "\n",
            "Trigrams:\n",
            "[('<s>', 'he', 'let'), ('he', 'let', 'her'), ('let', 'her', 'tell'), ('her', 'tell', 'him'), ('tell', 'him', 'all'), ('him', 'all', 'about'), ('all', 'about', 'the'), ('about', 'the', 'church'), ('the', 'church', '.'), ('church', '.', '</s>')]\n"
          ]
        }
      ],
      "source": [
        "# Your code here (add as many cells as you need)\n",
        "# A. Build N-grams for N = 2, 3\n",
        "\n",
        "# Take a sentence and return a list of all N-grams for a given N\n",
        "def get_ngrams(sent, N):\n",
        "    return [tuple(sent[k:k+N]) for k in range(len(sent) - N + 1)]\n",
        "\n",
        "print(\"First sentence:\", tokenized_sentences[0])\n",
        "print(\"\\nBigrams:\")\n",
        "print(get_ngrams(tokenized_sentences[0], 2))\n",
        "print(\"\\nTrigrams:\")\n",
        "print(get_ngrams(tokenized_sentences[0], 3))"
      ]
    },
    {
      "cell_type": "code",
      "source": [
        "# Create lists of all bigrams and trigrams\n",
        "bigrams = []\n",
        "for sent in tokenized_sentences:\n",
        "    bigrams += get_ngrams(sent, 2)\n",
        "\n",
        "trigrams = []\n",
        "for sent in tokenized_sentences:\n",
        "    trigrams += get_ngrams(sent, 3)\n",
        "\n",
        "print(f\"There are {len(bigrams)} total bigrams.\")\n",
        "print(f\"There are {len(set(bigrams))} unique bigrams.\")\n",
        "print(f\"\\nThere are {len(trigrams)} total trigrams.\")\n",
        "print(f\"There are {len(set(trigrams))} unique trigrams.\")"
      ],
      "metadata": {
        "id": "V1FYIpWW8sMQ",
        "outputId": "f20d8732-5a85-4b2c-9b0a-c5a5d31e19b0",
        "colab": {
          "base_uri": "https://localhost:8080/"
        }
      },
      "execution_count": 10,
      "outputs": [
        {
          "output_type": "stream",
          "name": "stdout",
          "text": [
            "There are 2287 total bigrams.\n",
            "There are 1953 unique bigrams.\n",
            "\n",
            "There are 2187 total trigrams.\n",
            "There are 2158 unique trigrams.\n"
          ]
        }
      ]
    },
    {
      "cell_type": "code",
      "source": [
        "# B. Create a dictionary mapping left-contexts to next-word lists\n",
        "# Take a list of N-grams and create a next-word dictionary\n",
        "def get_next_word_dict(ngrams):\n",
        "    dict = {}\n",
        "    for ng in ngrams:\n",
        "        lcontext = ng[:-1]\n",
        "        next_word = ng[-1]\n",
        "        dict[lcontext] = dict.get(lcontext, []) + [next_word]\n",
        "    return dict\n",
        "\n",
        "# Create next-word dictionaries\n",
        "bigram_next_word_dict = get_next_word_dict(bigrams)\n",
        "trigram_next_word_dict = get_next_word_dict(trigrams)\n",
        "\n",
        "print(f\"Number of unique bigram contexts: {len(bigram_next_word_dict)}\")\n",
        "print(f\"Number of unique trigram contexts: {len(trigram_next_word_dict)}\")"
      ],
      "metadata": {
        "id": "1zTTJaQW8w38",
        "outputId": "33af0ebb-ae94-4315-f1fb-51e787460541",
        "colab": {
          "base_uri": "https://localhost:8080/"
        }
      },
      "execution_count": 11,
      "outputs": [
        {
          "output_type": "stream",
          "name": "stdout",
          "text": [
            "Number of unique bigram contexts: 991\n",
            "Number of unique trigram contexts: 1947\n"
          ]
        }
      ]
    },
    {
      "cell_type": "code",
      "source": [
        "# C. Convert to log probability distributions\n",
        "# Turn list of tokens into a log-probability distribution dictionary\n",
        "def tokens2log_probs(ws):\n",
        "    k = len(ws)\n",
        "    return {w: math.log(f/k) for (w, f) in Counter(ws).items()}\n",
        "\n",
        "test_tokens = ['and', 'then', 'and', 'when']\n",
        "print(\"Test tokens:\", test_tokens)\n",
        "print(\"Log probabilities:\", tokens2log_probs(test_tokens))"
      ],
      "metadata": {
        "id": "JuUGkXfi89m8",
        "outputId": "c47fe86b-58c8-4352-9aee-0851d0fd7c4e",
        "colab": {
          "base_uri": "https://localhost:8080/"
        }
      },
      "execution_count": 12,
      "outputs": [
        {
          "output_type": "stream",
          "name": "stdout",
          "text": [
            "Test tokens: ['and', 'then', 'and', 'when']\n",
            "Log probabilities: {'and': -0.6931471805599453, 'then': -1.3862943611198906, 'when': -1.3862943611198906}\n"
          ]
        }
      ]
    },
    {
      "cell_type": "code",
      "source": [
        "# D. Create the Probability Language Model (PLM)\n",
        "# Convert a next-word dictionary from contexts into a PLM = a dictionary from left-contexts to a probability distribution of next words\n",
        "def get_PLM(D):\n",
        "    return {lcontext: tokens2log_probs(next_words) for (lcontext, next_words) in D.items()}\n",
        "\n",
        "# Create PLMs for bigrams and trigrams\n",
        "bigram_plm = get_PLM(bigram_next_word_dict)\n",
        "trigram_plm = get_PLM(trigram_next_word_dict)\n",
        "\n",
        "# Combine into single dictionary (since contexts are different lengths, no collision)\n",
        "plm = {**bigram_plm, **trigram_plm}\n",
        "\n",
        "print(f\"Total number of contexts in combined PLM: {len(plm)}\")\n",
        "print(f\"Bigram contexts: {len(bigram_plm)}\")\n",
        "print(f\"Trigram contexts: {len(trigram_plm)}\")"
      ],
      "metadata": {
        "id": "vEvhF1P99I6Z",
        "outputId": "7d459a52-7433-4944-ef94-a5d2a21cb5b7",
        "colab": {
          "base_uri": "https://localhost:8080/"
        }
      },
      "execution_count": 13,
      "outputs": [
        {
          "output_type": "stream",
          "name": "stdout",
          "text": [
            "Total number of contexts in combined PLM: 2938\n",
            "Bigram contexts: 991\n",
            "Trigram contexts: 1947\n"
          ]
        }
      ]
    },
    {
      "cell_type": "code",
      "source": [
        "# E. Sanity check - display distributions for specific contexts\n",
        "\n",
        "# Check if contexts exist\n",
        "if ('<s>',) in plm:\n",
        "    print(\"Bigram context ('<s>',):\")\n",
        "    print(plm[('<s>',)])\n",
        "    print()\n",
        "else:\n",
        "    print(\"Context ('<s>',) not found\")\n",
        "\n",
        "if ('the',) in plm:\n",
        "    print(\"Bigram context ('the',):\")\n",
        "    print(plm[('the',)])\n",
        "    print()\n",
        "else:\n",
        "    print(\"Context ('the',) not found\")\n",
        "\n",
        "if ('<s>', 'the') in plm:\n",
        "    print(\"Trigram context ('<s>', 'the'):\")\n",
        "    print(plm[('<s>', 'the')])\n",
        "    print()\n",
        "else:\n",
        "    print(\"Context ('<s>', 'the') not found - possibly might need more sentences!!!!!!\")"
      ],
      "metadata": {
        "id": "CEpRIBKV9XkZ",
        "outputId": "664c4368-d02f-4b95-94d7-bc18838f81d4",
        "colab": {
          "base_uri": "https://localhost:8080/"
        }
      },
      "execution_count": 14,
      "outputs": [
        {
          "output_type": "stream",
          "name": "stdout",
          "text": [
            "Bigram context ('<s>',):\n",
            "{'he': -2.8134107167600364, 'china': -4.605170185988091, 'finally': -4.605170185988091, 'a': -3.912023005428146, 'during': -4.605170185988091, 'it': -3.2188758248682006, 'just': -4.605170185988091, 'water': -4.605170185988091, 'cholesterol': -4.605170185988091, '`': -2.995732273553991, 'there': -3.506557897319982, 'acquire': -4.605170185988091, 'in': -3.506557897319982, 'theories': -4.605170185988091, 'all': -4.605170185988091, 'we': -4.605170185988091, 'to': -3.912023005428146, 'if': -4.605170185988091, 'little': -4.605170185988091, 'the': -2.3025850929940455, 'after': -3.912023005428146, 'that': -4.605170185988091, 'mrs.': -4.605170185988091, 'one': -3.912023005428146, 'two': -4.605170185988091, 'mr.': -4.605170185988091, '(': -3.912023005428146, 'nor': -4.605170185988091, 'then': -4.605170185988091, '13': -4.605170185988091, 'fromm': -4.605170185988091, 'but': -4.605170185988091, 'ambiguity': -4.605170185988091, 'as': -4.605170185988091, 'i': -3.506557897319982, 'check': -4.605170185988091, 'feelers': -4.605170185988091, 'and': -4.605170185988091, 'this': -4.605170185988091, 'she': -3.912023005428146, 'coping': -4.605170185988091, 'high': -4.605170185988091, 'opposite': -4.605170185988091, 'or': -4.605170185988091, 'soccer': -4.605170185988091, 'berman': -4.605170185988091, 'some': -4.605170185988091, 'writes': -4.605170185988091, 'vincent': -4.605170185988091, 'yet': -4.605170185988091, 'efforts': -4.605170185988091, 'calloused': -4.605170185988091, 'true': -4.605170185988091, 'americana': -4.605170185988091, 'whenever': -4.605170185988091, 'although': -4.605170185988091, 'rachel': -4.605170185988091, 'capt': -4.605170185988091, 'rousseau': -4.605170185988091, 'plank': -4.605170185988091, 'improvement': -4.605170185988091, 'enthusiastically': -4.605170185988091, 'exactly': -4.605170185988091, 'while': -4.605170185988091, 'three': -4.605170185988091, 'andrei': -4.605170185988091, 'his': -4.605170185988091}\n",
            "\n",
            "Bigram context ('the',):\n",
            "{'church': -3.828641396489095, 'people': -4.927253685157205, 'horse': -4.927253685157205, 'human': -4.927253685157205, 'council': -4.927253685157205, 'way': -4.23410650459726, 'noise': -4.927253685157205, 'summer': -4.927253685157205, 'setting': -4.927253685157205, 'saltbush': -4.927253685157205, 'bluebush': -4.927253685157205, 'hills': -4.927253685157205, 'cornerstone': -4.927253685157205, 'far': -4.927253685157205, 'office': -4.927253685157205, 'forest': -4.927253685157205, 'behavior': -4.927253685157205, 'motion': -4.927253685157205, 'elders': -4.927253685157205, 'deputies': -4.927253685157205, 'sentence': -4.927253685157205, 'pathet': -4.927253685157205, 'denomination': -4.927253685157205, 'rev.': -4.927253685157205, 'vision': -4.927253685157205, 'next': -4.927253685157205, 'final': -4.927253685157205, 'ring': -4.927253685157205, 'synthetic': -4.927253685157205, 'president': -4.927253685157205, 'necessity': -4.927253685157205, 'ferry': -4.927253685157205, 'genuinely': -4.927253685157205, 'degree': -4.927253685157205, 'suitcase': -4.927253685157205, 'various': -4.927253685157205, 'missile': -4.23410650459726, 'target': -4.927253685157205, 'flight': -4.927253685157205, 'opportunity': -4.927253685157205, 'cat': -4.927253685157205, 'bag': -4.927253685157205, 'sphere': -4.927253685157205, 'concepts': -4.927253685157205, 'bureaucratization': -4.927253685157205, 'corporation': -4.927253685157205, 'separation': -4.927253685157205, 'broad': -4.927253685157205, 'point': -4.927253685157205, 'eternal': -4.927253685157205, 'world': -4.23410650459726, 'pronoun': -4.927253685157205, 'favorite': -4.927253685157205, 'kitchen': -4.23410650459726, 'quality': -4.927253685157205, 'water': -4.927253685157205, 'pictures': -4.927253685157205, 'speed': -4.927253685157205, 'united': -3.828641396489095, 'velvet': -4.927253685157205, 'closet': -4.927253685157205, 'city': -4.927253685157205, 'potowomut': -4.927253685157205, 'outcome': -4.927253685157205, 'difference': -4.927253685157205, 'number': -4.927253685157205, 'cafeteria': -4.927253685157205, 'usis': -4.927253685157205, 'university': -4.927253685157205, 'belgians': -4.927253685157205, 'economic': -4.927253685157205, 'congo': -4.927253685157205, 'ruddiness': -4.927253685157205, 'heat': -4.927253685157205, 'stubble': -4.927253685157205, 'hill': -4.927253685157205, 'farm': -4.927253685157205, 'most': -4.23410650459726, 'left': -4.927253685157205, 'person': -4.927253685157205, 'uncas': -4.927253685157205, 'order': -4.927253685157205, 'republic': -4.927253685157205, 'inconsequential': -4.927253685157205, 'terminal': -4.927253685157205, 'community': -4.927253685157205, 'philippines': -4.927253685157205, 'smoothness': -4.927253685157205, 'opposite': -4.927253685157205, 'effect': -4.927253685157205, 'vehicle': -4.927253685157205, 'secretary': -4.927253685157205, 'treasury': -4.927253685157205, 'comptroller': -4.927253685157205, 'case': -4.927253685157205, 'social': -4.927253685157205, 'teacher': -4.927253685157205, 'latter': -4.927253685157205, 'area': -4.927253685157205, 'installation': -4.927253685157205, 'buildings': -4.927253685157205, 'sorrentine': -4.927253685157205, '`': -3.828641396489095, 'sides': -4.927253685157205, 'stem': -4.927253685157205, 'transom': -4.927253685157205, 'original': -4.927253685157205, 'early': -4.927253685157205, 'women': -4.927253685157205, 'grateful': -4.927253685157205, 'army': -4.927253685157205, 'new': -4.23410650459726, 'crown': -4.927253685157205, 'concept': -4.927253685157205, 'communion': -4.927253685157205, 'criminal': -4.927253685157205, 'electoral': -4.927253685157205, 'newly': -4.927253685157205, 'bloodstream': -4.927253685157205, 'former': -4.927253685157205, 'hero': -4.927253685157205, 'other': -4.927253685157205, 'villain': -4.927253685157205, 'congress': -4.927253685157205, 'establishment': -4.927253685157205, 'u.s.': -4.927253685157205}\n",
            "\n",
            "Trigram context ('<s>', 'the'):\n",
            "{'president': -2.3025850929940455, 'genuinely': -2.3025850929940455, 'church': -2.3025850929940455, 'favorite': -2.3025850929940455, 'velvet': -2.3025850929940455, 'belgians': -2.3025850929940455, 'most': -2.3025850929940455, 'latter': -2.3025850929940455, 'grateful': -2.3025850929940455, '`': -2.3025850929940455}\n",
            "\n"
          ]
        }
      ]
    },
    {
      "cell_type": "code",
      "source": [
        "# F. Generate 5 next words for each of the 3 contexts\n",
        "# Get next word by sampling from the probability distribution.\n",
        "# Uses log probabilities, so convert back to regular probabilities for sampling\n",
        "def get_next_word(lcontext, plm):\n",
        "    next_word_dist = plm[lcontext]\n",
        "\n",
        "    # Convert log probs back to regular probs\n",
        "    tokens = list(next_word_dist.keys())\n",
        "    log_probs = list(next_word_dist.values())\n",
        "\n",
        "    # Convert to regular probabilities\n",
        "    max_log_prob = max(log_probs)\n",
        "    probs = [math.exp(lp - max_log_prob) for lp in log_probs]\n",
        "\n",
        "    # Normalize\n",
        "    total = sum(probs)\n",
        "    probs = [p/total for p in probs]\n",
        "\n",
        "    return random.choices(tokens, weights=probs)[0]\n",
        "\n",
        "# Generate 5 next words for each context\n",
        "contexts_to_test = [('<s>',), ('the',), ('<s>', 'the')]\n",
        "\n",
        "for context in contexts_to_test:\n",
        "    if context in plm:\n",
        "        print(f\"\\nContext {context}:\")\n",
        "        next_words = [get_next_word(context, plm) for _ in range(5)]\n",
        "        print(f\"5 generated next words: {next_words}\")\n",
        "    else:\n",
        "        print(f\"\\nContext {context} not found in PLM\")"
      ],
      "metadata": {
        "id": "HYc16XaX9vQq",
        "outputId": "fbf7035b-7561-4364-a1f3-5045ba765000",
        "colab": {
          "base_uri": "https://localhost:8080/"
        }
      },
      "execution_count": 15,
      "outputs": [
        {
          "output_type": "stream",
          "name": "stdout",
          "text": [
            "\n",
            "Context ('<s>',):\n",
            "5 generated next words: ['the', 'two', 'china', 'while', 'one']\n",
            "\n",
            "Context ('the',):\n",
            "5 generated next words: ['degree', 'missile', 'rev.', 'early', 'united']\n",
            "\n",
            "Context ('<s>', 'the'):\n",
            "5 generated next words: ['genuinely', 'velvet', 'belgians', 'velvet', 'president']\n"
          ]
        }
      ]
    },
    {
      "cell_type": "markdown",
      "metadata": {
        "id": "B5zbufuq4tsw"
      },
      "source": [
        "### Graded Question:\n",
        "\n",
        "In the next cell, set `a1` to the list of 5 next words for the trigram context `('<s>','the')` (unlikely, but you may have to adjust `num_sentences` as indicated)."
      ]
    },
    {
      "cell_type": "code",
      "execution_count": 16,
      "metadata": {
        "id": "X4Sl45T64tsw"
      },
      "outputs": [],
      "source": [
        "# Your answer here\n",
        "\n",
        "a1 = [get_next_word(('<s>', 'the'), plm) for _ in range(5)]"
      ]
    },
    {
      "cell_type": "code",
      "execution_count": 17,
      "metadata": {
        "id": "Q5D13EkW4tsw",
        "outputId": "0a2fe551-82ff-433d-d958-2f5566dc5c7e",
        "colab": {
          "base_uri": "https://localhost:8080/"
        }
      },
      "outputs": [
        {
          "output_type": "stream",
          "name": "stdout",
          "text": [
            "a1 = ['latter', 'church', 'favorite', 'grateful', 'president']\n"
          ]
        }
      ],
      "source": [
        "# Graded Answer\n",
        "# DO NOT change this cell in any way and do not make any other assignments to variable a1 in this problem\n",
        "\n",
        "print(f'a1 = {a1}')\n"
      ]
    },
    {
      "cell_type": "markdown",
      "metadata": {
        "id": "HxMnCiTt4tsw"
      },
      "source": [
        "## Problem Two: Generating Sentences with Backoff and Temperature\n",
        "\n",
        "\n",
        "The algorithm for generating sentences from a N-Gram PLM is simple: look at the last $N-1$ tokens of the sentence and use the probability distribution of next words to select the continuation word; stop when you generate `'</s>'`.\n",
        "\n",
        "\n",
        "For **bigrams**, this works well: Every token in the text is followed by another token (because `</s>` ends every sentence).\n",
        "\n",
        "However there are two problems when using N-grams for $N>2$:\n",
        "\n",
        "**1. Cold Start (not enough left-context):**  You don't have enough left context in the beginning, so you start with what you have until you have enough left context.   For example, with trigrams:\n",
        "\n",
        "                                          Find next word using:\n",
        "        Step 1:    <s> ?                      bigrams\n",
        "         context:  ---\n",
        "        Step 2:    <s> One ?                  trigrams\n",
        "         context:  ------\n",
        "        Step 3:    <s> One ish ?             continue on with trigrams\n",
        "         context:      ---------\n",
        "\n",
        "\n",
        "**2. Sparsity (not enough N-grams):** For bigrams we always have a continuation for the left context (1 token). However, it is possible for $N>2$ that there is no N-gram which gives you a choice of next words, for example, suppose your sentence so far is\n",
        "\n",
        "            \"One fish dish ...\"\n",
        "\n",
        "and there is no trigram in the form `(\"fish\", \"dish\", ...)`. In this case we use the **backoff** strategy: if there is no trigram left-context `(\"fish\", \"dish\")`,\n",
        "cut out one token and use the (safe) bigram strategy with left context `(\"dish\",)`.  In general, for any $N$,\n",
        "if $N$ does not provide a next word, try $N-1$, $N-2$ etc. until one is found (in the worse case,\n",
        "for $N=1$, you'll just select a likely word without any left-context, but note that with boundary tokens, you'll\n",
        "always have a bigram).\n",
        "\n",
        "\n",
        "**ToDo:**\n",
        "\n",
        "- Adapt the code for generating sentences from the Coding Video to perform the backoff strategy just described, and using your code from Problem One.\n",
        "- Make sure you convert the log probabilities **back into non-log probabilities before you use them as weights in in `np.choice(..., p=weights)`**.\n",
        "- Perform 3 experiments with temperature set at 0.2, 1.0, and 5.0 **with the full dataset if possible**:\n",
        "    - Generate 10 sentences for each temperature, print them out using `print_sentence` and observe whatever differences you can.\n",
        "- Answer the graded questions."
      ]
    },
    {
      "cell_type": "code",
      "execution_count": 27,
      "metadata": {
        "id": "25ZWCVde4tsw",
        "outputId": "78e6ed06-974b-4f76-8e8b-34e8958ff12c",
        "colab": {
          "base_uri": "https://localhost:8080/"
        }
      },
      "outputs": [
        {
          "output_type": "stream",
          "name": "stdout",
          "text": [
            "Testing with context ('<s>', 'the'):\n",
            "  Next word 1: velvet\n",
            "  Next word 2: latter\n",
            "  Next word 3: belgians\n",
            "  Next word 4: president\n",
            "  Next word 5: belgians\n"
          ]
        }
      ],
      "source": [
        "# Your code here (add as many cells as you need)\n",
        "# Function to get next word with backoff strategy and temperature\n",
        "\n",
        "# Get next word using backoff strategy and temperature.\n",
        "# - lcontext: tuple of tokens (left context)\n",
        "# - plm: probability language model dictionary\n",
        "# - temp: temperature for sampling\n",
        "\n",
        "# If lcontext not found, back off to shorter context.\n",
        "\n",
        "def get_next_word_backoff(lcontext, plm, temp=1.0):\n",
        "    # Try current context\n",
        "    current_context = lcontext\n",
        "\n",
        "    # Back off until we find a context that exists in the PLM\n",
        "    while current_context not in plm and len(current_context) > 0:\n",
        "        current_context = current_context[1:]  # Remove leftmost token\n",
        "\n",
        "    # If still not found, fall back to empty context (shouldn't happen with proper PLM)\n",
        "    if current_context not in plm:\n",
        "        # This shouldn't happen, but as a safety, pick a random context\n",
        "        current_context = random.choice(list(plm.keys()))\n",
        "\n",
        "    # Get the log probability distribution for next words\n",
        "    next_word_log_dist = plm[current_context]\n",
        "\n",
        "    # Convert to lists for processing\n",
        "    tokens = list(next_word_log_dist.keys())\n",
        "    log_probs = list(next_word_log_dist.values())\n",
        "\n",
        "    # Convert log probs to regular probs with numerical stability\n",
        "    max_log_prob = max(log_probs)\n",
        "    probs = [math.exp(lp - max_log_prob) for lp in log_probs]\n",
        "\n",
        "    # Apply temperature\n",
        "    if temp != 1.0:\n",
        "        probs = np.array(probs, dtype=np.float64)\n",
        "        probs = np.clip(probs, 1e-12, 1.0)  # Avoid log(0)\n",
        "        scaled = np.exp(np.log(probs) / temp)\n",
        "        probs = (scaled / np.sum(scaled)).tolist()\n",
        "    else:\n",
        "        # Just normalize without temperature\n",
        "        total = sum(probs)\n",
        "        probs = [p/total for p in probs]\n",
        "\n",
        "    # Sample next word\n",
        "    return random.choices(tokens, weights=probs)[0]\n",
        "\n",
        "# Test the function\n",
        "test_context = ('<s>', 'the')\n",
        "print(f\"Testing with context {test_context}:\")\n",
        "for i in range(5):\n",
        "    next_word = get_next_word_backoff(test_context, plm, temp=1.0)\n",
        "    print(f\"  Next word {i+1}: {next_word}\")"
      ]
    },
    {
      "cell_type": "code",
      "source": [
        "# Function to generate a complete sentence with backoff\n",
        "\n",
        "# Generate a sentence using N-gram model with backoff and temperature.\n",
        "# - plm: probability language model dictionary\n",
        "# - N: maximum N-gram order\n",
        "# - temp: temperature for sampling\n",
        "# - max_len: maximum sentence length to prevent infinite loops\n",
        "def get_sentence_backoff(plm, N=3, temp=1.0, max_len=100):\n",
        "    sentence = ['<s>']\n",
        "\n",
        "    while sentence[-1] != '</s>' and len(sentence) < max_len:\n",
        "        # Determine left context size based on current sentence length\n",
        "        # Start with smaller context if we don't have enough tokens yet\n",
        "        context_size = min(N - 1, len(sentence))\n",
        "        lcontext = tuple(sentence[-context_size:]) if context_size > 0 else tuple()\n",
        "\n",
        "        # Get next word with backoff\n",
        "        next_word = get_next_word_backoff(lcontext, plm, temp=temp)\n",
        "        sentence.append(next_word)\n",
        "\n",
        "    return sentence\n",
        "\n",
        "# Test sentence generation\n",
        "print(\"Testing sentence generation with trigram model (N=3):\\n\")\n",
        "for i in range(3):\n",
        "    sent = get_sentence_backoff(plm, N=3, temp=1.0)\n",
        "    print(f\"Sentence {i+1}:\")\n",
        "    print_sentence(sent)\n",
        "    print()"
      ],
      "metadata": {
        "id": "NG2PU1Sbl6FB",
        "outputId": "db63edf1-8123-4238-f6e3-236c4496dcb5",
        "colab": {
          "base_uri": "https://localhost:8080/"
        }
      },
      "execution_count": 19,
      "outputs": [
        {
          "output_type": "stream",
          "name": "stdout",
          "text": [
            "Testing sentence generation with trigram model (N=3):\n",
            "\n",
            "Sentence 1:\n",
            "To step up the denomination's program, the rev. mr. brandt suggested the vision of 8,000 new assemblies of God churches in the way to dress than college students.\n",
            "\n",
            "Sentence 2:\n",
            "One bronchial arteriolar- pulmonary arteriolar anastomosis was noted at the far end and in another by the united states, as pentagon mutterers labeled it, apparently was a post of honor, held inviolate for him;;\n",
            "\n",
            "Sentence 3:\n",
            "`` hold- back'', watching to see to the congress the establishment of a married couple may reflect an abiding belief that the communion between husband and wife is such that their actions are not always to be similar in potency, composition and physical properties.\n",
            "\n"
          ]
        }
      ]
    },
    {
      "cell_type": "code",
      "source": [
        "# Function to generate a complete sentence with backoff\n",
        "# Generate a sentence using N-gram model with backoff and temperature.\n",
        "#     - plm: probability language model dictionary\n",
        "#     - N: maximum N-gram order (e.g., 3 for trigrams)\n",
        "#     - temp: temperature for sampling\n",
        "#     - max_len: maximum sentence length to prevent infinite loops\n",
        "def get_sentence_backoff(plm, N=3, temp=1.0, max_len=100):\n",
        "    sentence = ['<s>']\n",
        "\n",
        "    while sentence[-1] != '</s>' and len(sentence) < max_len:\n",
        "        # Determine left context size based on current sentence length\n",
        "        # Start with smaller context if we don't have enough tokens yet\n",
        "        context_size = min(N - 1, len(sentence))\n",
        "        lcontext = tuple(sentence[-context_size:]) if context_size > 0 else tuple()\n",
        "\n",
        "        # Get next word with backoff\n",
        "        next_word = get_next_word_backoff(lcontext, plm, temp=temp)\n",
        "        sentence.append(next_word)\n",
        "\n",
        "    return sentence\n",
        "\n",
        "# Test sentence generation\n",
        "print(\"Testing sentence generation with trigram model (N=3):\\n\")\n",
        "for i in range(3):\n",
        "    sent = get_sentence_backoff(plm, N=3, temp=1.0)\n",
        "    print(f\"Sentence {i+1}:\")\n",
        "    print_sentence(sent)\n",
        "    print()"
      ],
      "metadata": {
        "id": "BCg0MiFx-NXF",
        "outputId": "39998857-7854-4057-a39a-b275ef9dca8e",
        "colab": {
          "base_uri": "https://localhost:8080/"
        }
      },
      "execution_count": 26,
      "outputs": [
        {
          "output_type": "stream",
          "name": "stdout",
          "text": [
            "Testing sentence generation with trigram model (N=3):\n",
            "\n",
            "Sentence 1:\n",
            "He was not a new experience to ekstrohm.\n",
            "\n",
            "Sentence 2:\n",
            "Acquire secret processes, technical data, inventions, patent applications, patents, licenses, land and interests in land( including water rights), plants and facilities, and cotton and palm oil.\n",
            "\n",
            "Sentence 3:\n",
            "Finally, it is, they are in having the world.\n",
            "\n"
          ]
        }
      ]
    },
    {
      "cell_type": "code",
      "source": [
        "# Experiment 1: Temperature = 0.2 (Low - more focused/deterministic)\n",
        "\n",
        "print(\"EXPERIMENT 1: Temperature = 0.2 (Low - focused, deterministic)\")\n",
        "print(\"-\" * 70)\n",
        "print()\n",
        "\n",
        "temperature = 0.2\n",
        "sentences_temp_02 = []\n",
        "\n",
        "for i in range(10):\n",
        "    sent = get_sentence_backoff(plm, N=3, temp=temperature)\n",
        "    sentences_temp_02.append(sent)\n",
        "    print(f\"Sentence {i+1}:\")\n",
        "    print_sentence(sent)\n",
        "    print()"
      ],
      "metadata": {
        "id": "N02nDGZ7B2rW",
        "outputId": "a6d72e48-77ce-4a13-ecd7-ba5a7de435de",
        "colab": {
          "base_uri": "https://localhost:8080/"
        }
      },
      "execution_count": 21,
      "outputs": [
        {
          "output_type": "stream",
          "name": "stdout",
          "text": [
            "EXPERIMENT 1: Temperature = 0.2 (Low - focused, deterministic)\n",
            "----------------------------------------------------------------------\n",
            "\n",
            "Sentence 1:\n",
            "The grateful way she looked at morgan made him ashamed of himself.\n",
            "\n",
            "Sentence 2:\n",
            "The belgians were interested primarily in the economic development of children, the hills roll softly.\n",
            "\n",
            "Sentence 3:\n",
            "The church today stands in the cafeteria, the new country the electoral process is considered as a night club monologist, proved himself very much at home in musical comedy.\n",
            "\n",
            "Sentence 4:\n",
            "The most prominent magazine illustrators in america;;\n",
            "\n",
            "Sentence 5:\n",
            "`` we must keep the bloodstream of new jersey in the early 1920s following adoption of the way of unity.\n",
            "\n",
            "Sentence 6:\n",
            "The favorite excuse of those who have now recanted their approval of communism is that they did not know how things would develop.\n",
            "\n",
            "Sentence 7:\n",
            "The grateful way she looked at morgan made him ashamed of himself.\n",
            "\n",
            "Sentence 8:\n",
            "The belgians were interested primarily in the closet.\n",
            "\n",
            "Sentence 9:\n",
            "The most active preparations obtained by these two groups of investigators appear to be similar in potency, composition and physical properties.\n",
            "\n",
            "Sentence 10:\n",
            "The belgians were interested primarily in the closet.\n",
            "\n"
          ]
        }
      ]
    },
    {
      "cell_type": "code",
      "source": [
        "# Experiment 2: Temperature = 1.0 (Medium - balanced)\n",
        "\n",
        "print(\"EXPERIMENT 2: Temperature = 1.0 (Balanced)\")\n",
        "print(\"-\" * 70)\n",
        "print()\n",
        "\n",
        "temperature = 1.0\n",
        "sentences_temp_10 = []\n",
        "\n",
        "for i in range(10):\n",
        "    sent = get_sentence_backoff(plm, N=3, temp=temperature)\n",
        "    sentences_temp_10.append(sent)\n",
        "    print(f\"Sentence {i+1}:\")\n",
        "    print_sentence(sent)\n",
        "    print()"
      ],
      "metadata": {
        "id": "ncx8vp5EB9ta",
        "outputId": "10a567b3-f105-40ae-db58-b8c899da3426",
        "colab": {
          "base_uri": "https://localhost:8080/"
        }
      },
      "execution_count": 22,
      "outputs": [
        {
          "output_type": "stream",
          "name": "stdout",
          "text": [
            "EXPERIMENT 2: Temperature = 1.0 (Balanced)\n",
            "----------------------------------------------------------------------\n",
            "\n",
            "Sentence 1:\n",
            "Andrei remembered a bathyran meeting long ago.\n",
            "\n",
            "Sentence 2:\n",
            "Enthusiastically, americans have swept subliterary and bogus materials like paul bunyan tales, abe lincoln anecdotes and labor union songs up as true products of our american oral tradition.\n",
            "\n",
            "Sentence 3:\n",
            "Or who undertook to set records for remaining erect on a dance floor, with or without a partner;;\n",
            "\n",
            "Sentence 4:\n",
            "One must first detect a fleeting mobile or moving target, compute ballistics for the social development of children, the teacher can find a great deal of information concerning types of social behavior normally displayed by children at various age levels.\n",
            "\n",
            "Sentence 5:\n",
            "Water rationing will be to remove as far as possible whatever in the philippines have demonstrated that transitional societies can work toward balanced national development.\n",
            "\n",
            "Sentence 6:\n",
            "We were told that to the kitchen.\n",
            "\n",
            "Sentence 7:\n",
            "The velvet smoking jackets, pearl- gray, wine, and when the pronoun it carries a twofold reference.\n",
            "\n",
            "Sentence 8:\n",
            "There was no close examination of his clothes for bloodstains, and said,`` hold- back'', herr schaffner said.\n",
            "\n",
            "Sentence 9:\n",
            "`` but you ca n't ride into the ring because it is worthy of destruction, select the missile for firing.\n",
            "\n",
            "Sentence 10:\n",
            "Finally, it is worthwhile to recall that fromm's analysis of alienation in the new country the electoral process is considered as a night club monologist, proved himself very much at home in musical comedy.\n",
            "\n"
          ]
        }
      ]
    },
    {
      "cell_type": "code",
      "source": [
        "# Experiment 3: Temperature = 5.0 (High - more random/creative)\n",
        "\n",
        "print(\"EXPERIMENT 3: Temperature = 5.0 (High - random, creative)\")\n",
        "print(\"-\" * 70)\n",
        "print()\n",
        "\n",
        "temperature = 5.0\n",
        "sentences_temp_50 = []\n",
        "\n",
        "for i in range(10):\n",
        "    sent = get_sentence_backoff(plm, N=3, temp=temperature)\n",
        "    sentences_temp_50.append(sent)\n",
        "    print(f\"Sentence {i+1}:\")\n",
        "    print_sentence(sent)\n",
        "    print()"
      ],
      "metadata": {
        "id": "lFbazmprB85S",
        "outputId": "a6e2a98f-7104-42e3-d492-4bae5c491002",
        "colab": {
          "base_uri": "https://localhost:8080/"
        }
      },
      "execution_count": 23,
      "outputs": [
        {
          "output_type": "stream",
          "name": "stdout",
          "text": [
            "EXPERIMENT 3: Temperature = 5.0 (High - random, creative)\n",
            "----------------------------------------------------------------------\n",
            "\n",
            "Sentence 1:\n",
            "If you walk into the ferry.\n",
            "\n",
            "Sentence 2:\n",
            "Calloused fingers, caressed only by the united states, its officers, agents, or the comptroller general of the human than any other person against the target, compute ballistics for the social development of children, the stem and the bluebush, has been designated a cavaliere of the sorrentine peninsula, had swayed excitedly beneath puckered chins where tiny black hairs sprouted, never to be tweezed away.\n",
            "\n",
            "Sentence 3:\n",
            "He saw the suitcase, which is rich in copper, tin, cobalt, manganese, zinc, and cotton and palm oil.\n",
            "\n",
            "Sentence 4:\n",
            "Mr. mccormack.\n",
            "\n",
            "Sentence 5:\n",
            "Andrei remembered a bathyran meeting long ago.\n",
            "\n",
            "Sentence 6:\n",
            "Finally, it shall be an absolute bar to recovery by any other presently known species.\n",
            "\n",
            "Sentence 7:\n",
            "Acquire secret processes, technical data, inventions, patent applications, patents, licenses, land and interests in land( including water rights), plants and facilities, and uranium, and said,`` but you ca n't ride into the ring because it is softened by the office.\n",
            "\n",
            "Sentence 8:\n",
            "Vincent sorrentino, founder and board chairman of the women's suffrage amendment.\n",
            "\n",
            "Sentence 9:\n",
            "Finally, it is worthwhile to recall that fromm's analysis of alienation in the economic development of children, the kitchen.\n",
            "\n",
            "Sentence 10:\n",
            "Vincent sorrentino, founder and board chairman of the`` you really in a container at the far end and in another by the various churches.\n",
            "\n"
          ]
        }
      ]
    },
    {
      "cell_type": "code",
      "source": [
        "# Collect all sentences from all experiments\n",
        "all_sentences = sentences_temp_02 + sentences_temp_10 + sentences_temp_50\n",
        "\n",
        "# Print all sentences with indices for selection\n",
        "print(\"All generated sentences:\")\n",
        "print()\n",
        "for idx, sent in enumerate(all_sentences):\n",
        "    print(f\"[{idx}] \", end=\"\")\n",
        "    print_sentence(sent)\n",
        "    print()\n",
        "\n",
        "best_sentence_index = 0\n",
        "\n",
        "a2a = print_sentence(all_sentences[best_sentence_index], do_print=False)\n",
        "print(f\"\\nSelected most realistic sentence (index {best_sentence_index}):\")\n",
        "print(f\"a2a = '{a2a}'\")"
      ],
      "metadata": {
        "colab": {
          "base_uri": "https://localhost:8080/"
        },
        "id": "22xur_BICiQ2",
        "outputId": "337d9725-692e-4ae7-fa76-7c570d80e7b8"
      },
      "execution_count": 32,
      "outputs": [
        {
          "output_type": "stream",
          "name": "stdout",
          "text": [
            "All generated sentences:\n",
            "\n",
            "[0] The grateful way she looked at morgan made him ashamed of himself.\n",
            "\n",
            "[1] The belgians were interested primarily in the economic development of children, the hills roll softly.\n",
            "\n",
            "[2] The church today stands in the cafeteria, the new country the electoral process is considered as a night club monologist, proved himself very much at home in musical comedy.\n",
            "\n",
            "[3] The most prominent magazine illustrators in america;;\n",
            "\n",
            "[4] `` we must keep the bloodstream of new jersey in the early 1920s following adoption of the way of unity.\n",
            "\n",
            "[5] The favorite excuse of those who have now recanted their approval of communism is that they did not know how things would develop.\n",
            "\n",
            "[6] The grateful way she looked at morgan made him ashamed of himself.\n",
            "\n",
            "[7] The belgians were interested primarily in the closet.\n",
            "\n",
            "[8] The most active preparations obtained by these two groups of investigators appear to be similar in potency, composition and physical properties.\n",
            "\n",
            "[9] The belgians were interested primarily in the closet.\n",
            "\n",
            "[10] Andrei remembered a bathyran meeting long ago.\n",
            "\n",
            "[11] Enthusiastically, americans have swept subliterary and bogus materials like paul bunyan tales, abe lincoln anecdotes and labor union songs up as true products of our american oral tradition.\n",
            "\n",
            "[12] Or who undertook to set records for remaining erect on a dance floor, with or without a partner;;\n",
            "\n",
            "[13] One must first detect a fleeting mobile or moving target, compute ballistics for the social development of children, the teacher can find a great deal of information concerning types of social behavior normally displayed by children at various age levels.\n",
            "\n",
            "[14] Water rationing will be to remove as far as possible whatever in the philippines have demonstrated that transitional societies can work toward balanced national development.\n",
            "\n",
            "[15] We were told that to the kitchen.\n",
            "\n",
            "[16] The velvet smoking jackets, pearl- gray, wine, and when the pronoun it carries a twofold reference.\n",
            "\n",
            "[17] There was no close examination of his clothes for bloodstains, and said,`` hold- back'', herr schaffner said.\n",
            "\n",
            "[18] `` but you ca n't ride into the ring because it is worthy of destruction, select the missile for firing.\n",
            "\n",
            "[19] Finally, it is worthwhile to recall that fromm's analysis of alienation in the new country the electoral process is considered as a night club monologist, proved himself very much at home in musical comedy.\n",
            "\n",
            "[20] If you walk into the ferry.\n",
            "\n",
            "[21] Calloused fingers, caressed only by the united states, its officers, agents, or the comptroller general of the human than any other person against the target, compute ballistics for the social development of children, the stem and the bluebush, has been designated a cavaliere of the sorrentine peninsula, had swayed excitedly beneath puckered chins where tiny black hairs sprouted, never to be tweezed away.\n",
            "\n",
            "[22] He saw the suitcase, which is rich in copper, tin, cobalt, manganese, zinc, and cotton and palm oil.\n",
            "\n",
            "[23] Mr. mccormack.\n",
            "\n",
            "[24] Andrei remembered a bathyran meeting long ago.\n",
            "\n",
            "[25] Finally, it shall be an absolute bar to recovery by any other presently known species.\n",
            "\n",
            "[26] Acquire secret processes, technical data, inventions, patent applications, patents, licenses, land and interests in land( including water rights), plants and facilities, and uranium, and said,`` but you ca n't ride into the ring because it is softened by the office.\n",
            "\n",
            "[27] Vincent sorrentino, founder and board chairman of the women's suffrage amendment.\n",
            "\n",
            "[28] Finally, it is worthwhile to recall that fromm's analysis of alienation in the economic development of children, the kitchen.\n",
            "\n",
            "[29] Vincent sorrentino, founder and board chairman of the`` you really in a container at the far end and in another by the various churches.\n",
            "\n",
            "\n",
            "Selected most realistic sentence (index 0):\n",
            "a2a = 'The grateful way she looked at morgan made him ashamed of himself.'\n"
          ]
        }
      ]
    },
    {
      "cell_type": "markdown",
      "metadata": {
        "id": "GjndEdEO4tsw"
      },
      "source": [
        "### Graded Questions:\n",
        "\n",
        "#### Part 2A: In the next cell, set `a2a` to the *most realistic sentence* generated (your call!). Use `print_sentence(..., do_print=False)`."
      ]
    },
    {
      "cell_type": "code",
      "execution_count": 33,
      "metadata": {
        "id": "tnIsZeHV4tsw"
      },
      "outputs": [],
      "source": [
        "# Your answer here\n",
        "a2a = print_sentence(all_sentences[best_sentence_index], do_print=False)"
      ]
    },
    {
      "cell_type": "code",
      "execution_count": 34,
      "metadata": {
        "id": "V6TG_gO94tsw",
        "outputId": "09b45a4d-e382-4a21-cb05-83ed0fb04050",
        "colab": {
          "base_uri": "https://localhost:8080/"
        }
      },
      "outputs": [
        {
          "output_type": "stream",
          "name": "stdout",
          "text": [
            "a2a = The grateful way she looked at morgan made him ashamed of himself.\n"
          ]
        }
      ],
      "source": [
        "# Graded Answer\n",
        "# DO NOT change this cell in any way and do not make any other assignments to variable a2a in this problem\n",
        "\n",
        "print(f'a2a = {a2a}')\n"
      ]
    },
    {
      "cell_type": "markdown",
      "metadata": {
        "id": "g7fsr3DO4tsw"
      },
      "source": [
        "#### Part 2B:  Describe in a few sentences what you observed with the different temperature settings (and try more if you wish!). Which seemed to produce the most realistic sentences?\n",
        "\n",
        "Your answer here:\n",
        "\n",
        "\n",
        "The Temperature 0.2 (low) model produced more repetitive and deterministic outputs. Several sentences were duplicated (for example: \"The grateful way she looked at morgan made him ashamed of himself\" and \"The belgians were interested primarily in the closet\" appeared multiple times). The sentences started coherent but often had more predictable and less diverse word choices.\n",
        "The Temperature 1.0 (balanced) setting produced the most realistic and varied sentences. The outputs were grammatically correct, semantically coherent, and showed good diversity without being too random. Sentences like \"Andrei remembered a bathyran meeting long ago\" and \"The grateful way she looked at morgan made him ashamed of himself\" are completely natural. The only critique is that I am not sure what a \"bathyran meeting\" is and the incorrect capitalization of \"morgan.\"\n",
        "The Temperature 5.0 (high) model generated more creative but often incoherent sentences. These outputs were longer, more chaotic, and contained unusual word combinations and run-on structures. While diverse, they often lacked logical flow and semantic coherence (for example: the very long sentence about \"calloused fingers\" and \"puckered chins\")."
      ]
    },
    {
      "cell_type": "markdown",
      "metadata": {
        "id": "kHybhEyL4tsw"
      },
      "source": [
        "## Problem Three:  Measuring the Quality of Sentences:  Average Log Probability and Perplexity\n",
        "\n",
        "The probabilities involved when we start to calculate the probability of longer token sequences are extremely small, and underflow is common\n",
        "for a large corpus. Therefore we calculate all probabilities in **log space** (see **Appendix Two** for an explanation).\n",
        "\n",
        "Basically, the quality metric for generated sentences is likelihood: If a sentence is more probable, it is better.\n",
        "However, this metric is biased towards short sentences, since we multiply the probabilities of each word,\n",
        "and long sentences end up being very unlikely. But natural language does not behave this way!\n",
        "\n",
        "Therefore, we will remove the length from the calculation using the following measures:\n",
        "\n",
        "**Average of Log Probabilities (ALP)** is a length-agnostic measure of sentence probability. For trigrams:\n",
        "\n",
        "Let the tokenized sentence be $[t_1,\\ldots,t_n]$ with $t_1$ = `<s>` and $t_n$ = `</s>`.\n",
        "\n",
        "\n",
        "$$\n",
        "\\text{ALP}([t_1, t_2, \\dots, t_n])\n",
        "\\ =\\ \\frac{\\log P(t_2 \\mid t_1) + \\log P(t_3 \\mid t_1, t_2) + \\dots + \\log P(t_n \\mid t_{n-2}, t_{n-1})}{n-1}\n",
        "$$\n",
        "\n",
        "**Notes:**\n",
        "- We don't include the first token because it is always present and hence not predicted; think of\n",
        "it as a prompt which gets the sentence going!\n",
        "- To account for backoff, simply use the log probability of the bigram in those cases instead of the trigram.\n",
        "- ALP is in $(-\\infty \\ldots 0.0]$ and larger is better.  It grows more negative as the model performs worse.\n",
        "\n",
        "\n",
        "**Perplexity** is the most common metric in NLP: it rescales the ALP into a more intuitive, positive scale:\n",
        "\n",
        "> Perplexity = np.exp( - ALP ).     \n",
        "\n",
        "Perplexities are $\\ge 1.0$ and smaller is better.   A larger perplexity means the model is “more perplexed,” i.e., on average it is choosing among more equally likely alternatives.\n",
        "\n",
        "Because the exponential is monotonic, minimizing perplexity is exactly the same as maximizing average log probability—so either metric may be used for ranking models, but perplexity is more commonly used by the NLP community.\n",
        "\n",
        "### Before You Start\n",
        "\n",
        "You can compute ALP during generation by carrying **state** along with the partial sentence.\n",
        "Instead of storing:\n",
        "\n",
        "> tokens_so_far = [ `<s>`, $t_2$, $t_3$, … ]\n",
        "\n",
        "store a **pair**:\n",
        "\n",
        "> ( tokens_so_far, sum_log_probs)\n",
        "\n",
        "where\n",
        "\n",
        "* **sum_log_probs** = $( \\log P(t_2\\mid t_1) + \\log P(t_3\\mid t_1,t_2) + \\cdots )$\n",
        "\n",
        "In the case that backoff was used to generate some $t_k$, you just use $\\log P(t_{k}\\mid t_{k-1})$\n",
        "\n",
        "Then your loop is:\n",
        "\n",
        "1. Start with tokens = `['<s>']` and `sum_log_probs = 0.0`.\n",
        "2. Get the left context (trigram preferred; back off to bigram if needed).\n",
        "3. **Sample** the next token using temperature, but **score** with the model’s **true** log-prob for that token (un-tempered): update `sum_log_probs += log P(next|context)`.\n",
        "4. Append the token; if it is `</s>`, stop, else repeat froms step 2.\n",
        "5. Calculate the perplexity of the completed sentence:\n",
        "- Divide the running sum of log probabilities by `len(tokens)-1` to get the final ALP.\n",
        "- Calculate `PP = np.exp(-ALP)` and return the pair `( completed-list-of-tokens, PP)` as the generated sentence.\n",
        "\n",
        "\n",
        "\n",
        "### To Do\n",
        "\n",
        "* Modify your `get_next_word` and sentence generator method to maintain `(tokens, sum_log)` as above and return `(tokens, Perplexity)`.\n",
        "- Perform 3 experiments with temperature set at 0.2, 1.0, and 5.0 **with the full dataset if possible**:\n",
        "    - Generate 10 sentences for each temperature, print them out using `print_sentence` and observe whatever differences you can, comparing them with the perplexity.\n",
        "* Answer the graded questions.\n"
      ]
    },
    {
      "cell_type": "code",
      "execution_count": 52,
      "metadata": {
        "id": "IegCJbtv4tsx",
        "outputId": "76905019-7c06-44ca-d518-14e367d7278b",
        "colab": {
          "base_uri": "https://localhost:8080/"
        }
      },
      "outputs": [
        {
          "output_type": "stream",
          "name": "stdout",
          "text": [
            "Testing with context ('<s>', 'the'):\n",
            "\n",
            "  Word: favorite        | Log P: -2.3026 | Context used: ('<s>', 'the')\n",
            "  Word: velvet          | Log P: -2.3026 | Context used: ('<s>', 'the')\n",
            "  Word: president       | Log P: -2.3026 | Context used: ('<s>', 'the')\n",
            "  Word: velvet          | Log P: -2.3026 | Context used: ('<s>', 'the')\n",
            "  Word: belgians        | Log P: -2.3026 | Context used: ('<s>', 'the')\n"
          ]
        }
      ],
      "source": [
        "# Your code here: add as many cells as you wish\n",
        "# Modified function to get next word and return its log probability\n",
        "# Get next word using backoff strategy and temperature.\n",
        "# Returns: (next_word, log_prob, context_used)\n",
        "# - next_word: the sampled token\n",
        "# - log_prob: the TRUE log probability from the model (not temperature-adjusted)\n",
        "# - context_used: the actual context used (after backoff if needed)\n",
        "\n",
        "def get_next_word_with_log_prob(lcontext, plm, temp=1.0):\n",
        "    # Try current context, back off if needed\n",
        "    current_context = lcontext\n",
        "\n",
        "    while current_context not in plm and len(current_context) > 0:\n",
        "        current_context = current_context[1:]  # Remove leftmost token\n",
        "\n",
        "    if current_context not in plm:\n",
        "        # Safety fallback\n",
        "        current_context = random.choice(list(plm.keys()))\n",
        "\n",
        "    # Get the log probability distribution for next words\n",
        "    next_word_log_dist = plm[current_context]\n",
        "\n",
        "    # Convert to lists\n",
        "    tokens = list(next_word_log_dist.keys())\n",
        "    log_probs = list(next_word_log_dist.values())\n",
        "\n",
        "    # Convert log probs to regular probs with numerical stability\n",
        "    max_log_prob = max(log_probs)\n",
        "    probs = [math.exp(lp - max_log_prob) for lp in log_probs]\n",
        "\n",
        "    # Apply temperature for sampling only\n",
        "    if temp != 1.0:\n",
        "        probs_array = np.array(probs, dtype=np.float64)\n",
        "        probs_array = np.clip(probs_array, 1e-12, 1.0)\n",
        "        scaled = np.exp(np.log(probs_array) / temp)\n",
        "        sampling_probs = (scaled / np.sum(scaled)).tolist()\n",
        "    else:\n",
        "        # Just normalize\n",
        "        total = sum(probs)\n",
        "        sampling_probs = [p/total for p in probs]\n",
        "\n",
        "    # Sample next word using temperature-adjusted probabilities\n",
        "    next_word = random.choices(tokens, weights=sampling_probs)[0]\n",
        "\n",
        "    # Get the true log probability (not temperature-adjusted) for scoring\n",
        "    word_index = tokens.index(next_word)\n",
        "    true_log_prob = log_probs[word_index]\n",
        "\n",
        "    return next_word, true_log_prob, current_context\n",
        "\n",
        "# Test\n",
        "test_context = ('<s>', 'the')\n",
        "print(f\"Testing with context {test_context}:\\n\")\n",
        "for i in range(5):\n",
        "    word, log_p, ctx = get_next_word_with_log_prob(test_context, plm, temp=1.0)\n",
        "    print(f\"  Word: {word:15s} | Log P: {log_p:.4f} | Context used: {ctx}\")\n"
      ]
    },
    {
      "cell_type": "code",
      "source": [
        "# Modified sentence generator that tracks perplexity\n",
        "\n",
        "# Generate a sentence using N-gram model with backoff and temperature.\n",
        "# Returns: (tokens, perplexity)\n",
        "# - tokens: list of tokens including <s> and </s>\n",
        "# - perplexity: the perplexity of the generated sentence\n",
        "def get_sentence_with_perplexity(plm, N=3, temp=1.0, max_len=100):\n",
        "    tokens = ['<s>']\n",
        "    sum_log_probs = 0.0\n",
        "\n",
        "    while tokens[-1] != '</s>' and len(tokens) < max_len:\n",
        "        # Determine left context size based on current sentence length\n",
        "        context_size = min(N - 1, len(tokens))\n",
        "        lcontext = tuple(tokens[-context_size:]) if context_size > 0 else tuple()\n",
        "\n",
        "        # Get next word with its true log probability\n",
        "        next_word, true_log_prob, context_used = get_next_word_with_log_prob(lcontext, plm, temp=temp)\n",
        "\n",
        "        # Update running sum with true log probability\n",
        "        sum_log_probs += true_log_prob\n",
        "\n",
        "        # Append token\n",
        "        tokens.append(next_word)\n",
        "\n",
        "    # Calculate ALP and perplexity\n",
        "    # we divide by (len(tokens) - 1) because we don't count the first <s> token\n",
        "    n_predicted = len(tokens) - 1  # Number of tokens predicted (excluding first <s>)\n",
        "\n",
        "    if n_predicted > 0:\n",
        "        alp = sum_log_probs / n_predicted\n",
        "        perplexity = np.exp(-alp)\n",
        "    else:\n",
        "        perplexity = float('inf')\n",
        "\n",
        "    return tokens, perplexity\n",
        "\n",
        "\n",
        "print(\"Testing sentence generation with perplexity calculation:\\n\")\n",
        "for i in range(5):\n",
        "    sent, pp = get_sentence_with_perplexity(plm, N=3, temp=1.0)\n",
        "    print(f\"Sentence {i+1} (PP={pp:.2f}):\")\n",
        "    print_sentence(sent)\n",
        "    print()"
      ],
      "metadata": {
        "id": "8ui3yxkbNtkV",
        "outputId": "aa49514f-39c3-4687-b5a6-e527bb41d8e7",
        "colab": {
          "base_uri": "https://localhost:8080/"
        }
      },
      "execution_count": 53,
      "outputs": [
        {
          "output_type": "stream",
          "name": "stdout",
          "text": [
            "Testing sentence generation with perplexity calculation:\n",
            "\n",
            "Sentence 1 (PP=1.21):\n",
            "Rachel said that schools and synagogues occupied most of the behavior pattern of population masses were compared to scientific discoveries concerning the motion- pattern of population masses were compared to scientific discoveries concerning the motion- pattern of population masses were compared to scientific discoveries concerning the motion- pattern of gaseous masses.\n",
            "\n",
            "Sentence 2 (PP=1.26):\n",
            "Three days had passed since spencer's arrest and each day had brought new dangers, new fears.\n",
            "\n",
            "Sentence 3 (PP=4.64):\n",
            "13.\n",
            "\n",
            "Sentence 4 (PP=1.67):\n",
            "Andrei remembered a bathyran meeting long ago.\n",
            "\n",
            "Sentence 5 (PP=1.24):\n",
            "It is suggested that in many respects the horse lung may be, shall find that any person is entitled to any such payment shall have been sitting with a broad grin on your face all evening.\n",
            "\n"
          ]
        }
      ]
    },
    {
      "cell_type": "code",
      "source": [
        "# Experiment 1: Temperature = 0.2 with perplexity\n",
        "\n",
        "print(\"EXPERIMENT 1: Temperature = 0.2 (Low - focused, deterministic)\")\n",
        "print(\"-\" * 60)\n",
        "print()\n",
        "\n",
        "temperature = 0.2\n",
        "results_temp_02 = []\n",
        "\n",
        "for i in range(10):\n",
        "    sent, pp = get_sentence_with_perplexity(plm, N=3, temp=temperature)\n",
        "    results_temp_02.append((sent, pp))\n",
        "    print(f\"Sentence {i+1} (Perplexity = {pp:.2f}):\")\n",
        "    print_sentence(sent)\n",
        "    print()\n",
        "\n",
        "# Calculate average perplexity\n",
        "avg_pp_02 = np.mean([pp for _, pp in results_temp_02])\n",
        "print(f\"Average Perplexity for temp=0.2: {avg_pp_02:.2f}\")\n",
        "print()"
      ],
      "metadata": {
        "id": "JKiS40NeOVZH",
        "outputId": "f383ca19-921a-4a2a-fb0e-a39372226d23",
        "colab": {
          "base_uri": "https://localhost:8080/"
        }
      },
      "execution_count": 54,
      "outputs": [
        {
          "output_type": "stream",
          "name": "stdout",
          "text": [
            "EXPERIMENT 1: Temperature = 0.2 (Low - focused, deterministic)\n",
            "------------------------------------------------------------\n",
            "\n",
            "Sentence 1 (Perplexity = 1.19):\n",
            "The genuinely interesting question, then, becomes: what factors determine the degree of realism or distortion in conventional images of jews??\n",
            "\n",
            "Sentence 2 (Perplexity = 1.70):\n",
            "The most prominent magazine illustrators in america;;\n",
            "\n",
            "Sentence 3 (Perplexity = 1.85):\n",
            "He was one of the human than any other presently known species.\n",
            "\n",
            "Sentence 4 (Perplexity = 1.41):\n",
            "The belgians were interested primarily in the philippines have demonstrated that transitional societies can work toward balanced national development.\n",
            "\n",
            "Sentence 5 (Perplexity = 1.26):\n",
            "The president knew that a confrontation with mr. khrushchev sooner or later probably was inevitable and even desirable.\n",
            "\n",
            "Sentence 6 (Perplexity = 1.42):\n",
            "The latter now furnishes the area with electricity distributed from a metaphysical point of view, the former superior court judge said.\n",
            "\n",
            "Sentence 7 (Perplexity = 1.27):\n",
            "The favorite excuse of those who have now recanted their approval of communism is that they also learn to readjust to society.\n",
            "\n",
            "Sentence 8 (Perplexity = 1.70):\n",
            "He was not a new experience to ekstrohm.\n",
            "\n",
            "Sentence 9 (Perplexity = 1.29):\n",
            "The favorite excuse of those who have now recanted their approval of communism is that they did not know how things would develop.\n",
            "\n",
            "Sentence 10 (Perplexity = 1.39):\n",
            "The grateful way she looked at morgan made him ashamed of himself.\n",
            "\n",
            "Average Perplexity for temp=0.2: 1.45\n",
            "\n"
          ]
        }
      ]
    },
    {
      "cell_type": "code",
      "source": [
        "# Experiment 2: Temperature = 1.0 with perplexity\n",
        "\n",
        "print(\"EXPERIMENT 2: Temperature = 1.0 (Balanced)\")\n",
        "print(\"-\" * 50)\n",
        "print()\n",
        "\n",
        "temperature = 1.0\n",
        "results_temp_10 = []\n",
        "\n",
        "for i in range(10):\n",
        "    sent, pp = get_sentence_with_perplexity(plm, N=3, temp=temperature)\n",
        "    results_temp_10.append((sent, pp))\n",
        "    print(f\"Sentence {i+1} (Perplexity = {pp:.2f}):\")\n",
        "    print_sentence(sent)\n",
        "    print()\n",
        "\n",
        "# Calculate average perplexity\n",
        "avg_pp_10 = np.mean([pp for _, pp in results_temp_10])\n",
        "print(f\"Average Perplexity for temp=1.0: {avg_pp_10:.2f}\")\n",
        "print()"
      ],
      "metadata": {
        "id": "nDITmX3IOYbF",
        "outputId": "16ad47a3-f941-4620-c60d-600cdaa6f03a",
        "colab": {
          "base_uri": "https://localhost:8080/"
        }
      },
      "execution_count": 55,
      "outputs": [
        {
          "output_type": "stream",
          "name": "stdout",
          "text": [
            "EXPERIMENT 2: Temperature = 1.0 (Balanced)\n",
            "--------------------------------------------------\n",
            "\n",
            "Sentence 1 (Perplexity = 1.46):\n",
            "High school students have more sense of the ruddiness was gone from his face and he stared at ramey.\n",
            "\n",
            "Sentence 2 (Perplexity = 1.50):\n",
            "He swore, and other property or rights by purchase, license, lease, or employees with respect to such payment.\n",
            "\n",
            "Sentence 3 (Perplexity = 1.52):\n",
            "Opposite the number 1105 stood one word: unoccupied.\n",
            "\n",
            "Sentence 4 (Perplexity = 1.43):\n",
            "Writes: does numbness in the philippines have demonstrated that transitional societies can work toward balanced national development.\n",
            "\n",
            "Sentence 5 (Perplexity = 1.28):\n",
            "As autumn starts its annual sweep, few americans and canadians realize how fortunate they are free from the necessity of manipulating objects;;\n",
            "\n",
            "Sentence 6 (Perplexity = 1.43):\n",
            "There are now 162,400 miles of roads and 106,500 miles of supplemental foot and horse trails.\n",
            "\n",
            "Sentence 7 (Perplexity = 1.57):\n",
            "Rachel said that schools and synagogues occupied most of the order of merit of the`` let me stay and take the pictures you wanted, mamma.\n",
            "\n",
            "Sentence 8 (Perplexity = 1.79):\n",
            "I mean I've got to -- to see to the kitchen.\n",
            "\n",
            "Sentence 9 (Perplexity = 1.62):\n",
            "Check the quality of the congo, which is rich in copper, tin, cobalt, manganese, zinc, and the transom.\n",
            "\n",
            "Sentence 10 (Perplexity = 1.26):\n",
            "Three days had passed since spencer's arrest and each day had brought new dangers, new fears.\n",
            "\n",
            "Average Perplexity for temp=1.0: 1.49\n",
            "\n"
          ]
        }
      ]
    },
    {
      "cell_type": "code",
      "source": [
        "# Experiment 3: Temperature = 5.0 with perplexity\n",
        "\n",
        "print(\"EXPERIMENT 3: Temperature = 5.0 (High - random, creative)\")\n",
        "print(\"-\" * 60)\n",
        "print()\n",
        "\n",
        "temperature = 5.0\n",
        "results_temp_50 = []\n",
        "\n",
        "for i in range(10):\n",
        "    sent, pp = get_sentence_with_perplexity(plm, N=3, temp=temperature)\n",
        "    results_temp_50.append((sent, pp))\n",
        "    print(f\"Sentence {i+1} (Perplexity = {pp:.2f}):\")\n",
        "    print_sentence(sent)\n",
        "    print()\n",
        "\n",
        "# Calculate average perplexity\n",
        "avg_pp_50 = np.mean([pp for _, pp in results_temp_50])\n",
        "print(f\"Average Perplexity for temp=5.0: {avg_pp_50:.2f}\")\n",
        "print()"
      ],
      "metadata": {
        "id": "YgAKdpsdOa81",
        "outputId": "39aba995-bfef-4a4f-adc8-391b1fd90dad",
        "colab": {
          "base_uri": "https://localhost:8080/"
        }
      },
      "execution_count": 64,
      "outputs": [
        {
          "output_type": "stream",
          "name": "stdout",
          "text": [
            "EXPERIMENT 3: Temperature = 5.0 (High - random, creative)\n",
            "------------------------------------------------------------\n",
            "\n",
            "Sentence 1 (Perplexity = 1.39):\n",
            "Calloused fingers, caressed only by the united states, as pentagon mutterers labeled it, apparently was a post of honor, held inviolate for him;;\n",
            "\n",
            "Sentence 2 (Perplexity = 1.58):\n",
            "`` well, no'', the new country the electoral process is considered as a means of resolving fundamental, and gradually his listeners warmed to him.\n",
            "\n",
            "Sentence 3 (Perplexity = 1.30):\n",
            "Plank the sides first, using glue and one- inch, no. 12 stronghold nails at all battens, the former superior court judge said.\n",
            "\n",
            "Sentence 4 (Perplexity = 1.36):\n",
            "Theories of the eternal plan, that man's ambition when linked with God would be a driving, indefatigable force for good in the church today stands in the left hand at night, which is rich in copper, tin, cobalt, manganese, zinc, and the outcome may mean the difference between life or death, or at least serious injuries, for many veterans.\n",
            "\n",
            "Sentence 5 (Perplexity = 1.26):\n",
            "Three days had passed since spencer's arrest and each day had brought new dangers, new fears.\n",
            "\n",
            "Sentence 6 (Perplexity = 3.16):\n",
            "Soccer club.\n",
            "\n",
            "Sentence 7 (Perplexity = 1.45):\n",
            "China never tried to shut out the noise, turbulence around the vehicle, etc..\n",
            "\n",
            "Sentence 8 (Perplexity = 3.16):\n",
            "Mr. mccormack.\n",
            "\n",
            "Sentence 9 (Perplexity = 1.67):\n",
            "Andrei remembered a bathyran meeting long ago.\n",
            "\n",
            "Sentence 10 (Perplexity = 2.11):\n",
            "To know how things would develop.\n",
            "\n",
            "Average Perplexity for temp=5.0: 1.84\n",
            "\n"
          ]
        }
      ]
    },
    {
      "cell_type": "code",
      "source": [
        "# Summary comparison\n",
        "\n",
        "print(\"Perplexity Comparison Across Temperatures\")\n",
        "print(\"-\" * 45)\n",
        "print()\n",
        "print(f\"Temperature 0.2: Average Perplexity = {avg_pp_02:.2f}\")\n",
        "print(f\"Temperature 1.0: Average Perplexity = {avg_pp_10:.2f}\")\n",
        "print(f\"Temperature 5.0: Average Perplexity = {avg_pp_50:.2f}\")"
      ],
      "metadata": {
        "id": "c79if3AyOdSY",
        "outputId": "a821c5d2-45e2-4e2e-9362-7aed25583195",
        "colab": {
          "base_uri": "https://localhost:8080/"
        }
      },
      "execution_count": 65,
      "outputs": [
        {
          "output_type": "stream",
          "name": "stdout",
          "text": [
            "Perplexity Comparison Across Temperatures\n",
            "---------------------------------------------\n",
            "\n",
            "Temperature 0.2: Average Perplexity = 1.45\n",
            "Temperature 1.0: Average Perplexity = 1.49\n",
            "Temperature 5.0: Average Perplexity = 1.84\n"
          ]
        }
      ]
    },
    {
      "cell_type": "code",
      "source": [
        "# Find the sentence with lowest perplexity across all temperatures\n",
        "\n",
        "all_results = results_temp_02 + results_temp_10 + results_temp_50\n",
        "\n",
        "# Sort by perplexity (lower the better)\n",
        "sorted_results = sorted(all_results, key=lambda x: x[1])\n",
        "\n",
        "print(\"TOP 10 SENTENCES BY PERPLEXITY\")\n",
        "print(\"-\" * 40)\n",
        "print()\n",
        "\n",
        "for i, (sent, pp) in enumerate(sorted_results[:10]):\n",
        "    print(f\"Rank {i+1} (Perplexity = {pp:.2f}):\")\n",
        "    print_sentence(sent)\n",
        "    print()\n",
        "\n",
        "# Set a3a to the best sentence (lowest perplexity)\n",
        "best_sent, best_pp = sorted_results[0]\n",
        "a3a = print_sentence(best_sent, do_print=False)\n",
        "\n",
        "print(f\"Best sentence (lowest perplexity = {best_pp:.2f}):\")\n",
        "print(f\"a3a = '{a3a}'\")"
      ],
      "metadata": {
        "id": "qgXPHQ2pOiTA",
        "outputId": "63af2860-7cf2-4b00-ea13-03038fc647b8",
        "colab": {
          "base_uri": "https://localhost:8080/"
        }
      },
      "execution_count": 67,
      "outputs": [
        {
          "output_type": "stream",
          "name": "stdout",
          "text": [
            "TOP 10 SENTENCES BY PERPLEXITY\n",
            "----------------------------------------\n",
            "\n",
            "Rank 1 (Perplexity = 1.19):\n",
            "The genuinely interesting question, then, becomes: what factors determine the degree of realism or distortion in conventional images of jews??\n",
            "\n",
            "Rank 2 (Perplexity = 1.26):\n",
            "The president knew that a confrontation with mr. khrushchev sooner or later probably was inevitable and even desirable.\n",
            "\n",
            "Rank 3 (Perplexity = 1.26):\n",
            "Three days had passed since spencer's arrest and each day had brought new dangers, new fears.\n",
            "\n",
            "Rank 4 (Perplexity = 1.26):\n",
            "Three days had passed since spencer's arrest and each day had brought new dangers, new fears.\n",
            "\n",
            "Rank 5 (Perplexity = 1.27):\n",
            "The favorite excuse of those who have now recanted their approval of communism is that they also learn to readjust to society.\n",
            "\n",
            "Rank 6 (Perplexity = 1.28):\n",
            "As autumn starts its annual sweep, few americans and canadians realize how fortunate they are free from the necessity of manipulating objects;;\n",
            "\n",
            "Rank 7 (Perplexity = 1.29):\n",
            "The favorite excuse of those who have now recanted their approval of communism is that they did not know how things would develop.\n",
            "\n",
            "Rank 8 (Perplexity = 1.30):\n",
            "Plank the sides first, using glue and one- inch, no. 12 stronghold nails at all battens, the former superior court judge said.\n",
            "\n",
            "Rank 9 (Perplexity = 1.36):\n",
            "Theories of the eternal plan, that man's ambition when linked with God would be a driving, indefatigable force for good in the church today stands in the left hand at night, which is rich in copper, tin, cobalt, manganese, zinc, and the outcome may mean the difference between life or death, or at least serious injuries, for many veterans.\n",
            "\n",
            "Rank 10 (Perplexity = 1.39):\n",
            "The grateful way she looked at morgan made him ashamed of himself.\n",
            "\n",
            "Best sentence (lowest perplexity = 1.19):\n",
            "a3a = 'The genuinely interesting question, then, becomes: what factors determine the degree of realism or distortion in conventional images of jews??'\n"
          ]
        }
      ]
    },
    {
      "cell_type": "markdown",
      "metadata": {
        "id": "86s5mCOG4tsx"
      },
      "source": [
        "### Graded Questions:\n",
        "\n",
        "#### Part 3A: In the next cell, set `a3a` to the sentence with the smallest perplexity. Use `print_sentence(..., do_print=False)`."
      ]
    },
    {
      "cell_type": "code",
      "execution_count": 68,
      "metadata": {
        "id": "O7YFYl_Q4tsx"
      },
      "outputs": [],
      "source": [
        "# Your answer here\n",
        "\n",
        "a3a = print_sentence(best_sent, do_print=False)"
      ]
    },
    {
      "cell_type": "code",
      "execution_count": 69,
      "metadata": {
        "id": "fVVfD2wU4tsx",
        "outputId": "48c514dd-3d9b-473d-8073-334b7c94fcbe",
        "colab": {
          "base_uri": "https://localhost:8080/"
        }
      },
      "outputs": [
        {
          "output_type": "stream",
          "name": "stdout",
          "text": [
            "a3a = The genuinely interesting question, then, becomes: what factors determine the degree of realism or distortion in conventional images of jews??\n"
          ]
        }
      ],
      "source": [
        "# Graded Answer\n",
        "# DO NOT change this cell in any way and do not make any other assignments to variable a3a\n",
        "print(f'a3a = {a3a}')\n"
      ]
    },
    {
      "cell_type": "markdown",
      "metadata": {
        "id": "ZXpwNPeh4tsx"
      },
      "source": [
        "#### Part 3B:  Set `a3b` to the perplexity for the sentence you provided in Part 3A.\n"
      ]
    },
    {
      "cell_type": "code",
      "execution_count": 71,
      "metadata": {
        "id": "RWOpVhIj4tsx"
      },
      "outputs": [],
      "source": [
        "# Your answer here\n",
        "\n",
        "a3b = 1.19"
      ]
    },
    {
      "cell_type": "code",
      "execution_count": 72,
      "metadata": {
        "id": "sq34mClR4tsx",
        "outputId": "684f85af-b1ed-4f6e-b526-8718f70a1ccf",
        "colab": {
          "base_uri": "https://localhost:8080/"
        }
      },
      "outputs": [
        {
          "output_type": "stream",
          "name": "stdout",
          "text": [
            "a3b = 1.19\n"
          ]
        }
      ],
      "source": [
        "# Graded Answer\n",
        "# DO NOT change this cell in any way and do not make any other assignments to variable a1 in this problem\n",
        "\n",
        "print(f'a3b = {a3b}')\n"
      ]
    },
    {
      "cell_type": "markdown",
      "metadata": {
        "id": "bO3oK2t34tsx"
      },
      "source": [
        "#### Part 3C:  Describe in a few sentences what you observed with the different temperature settings (and try more if you wish!). Which produces the sentences with the best perplexity (you might want to take the average of all 10!).\n",
        "\n",
        "Your answer here:\n",
        "The temperature 0.2 (low) produced the most focused and deterministic outputs with the lowest average perplexity. The sentences were coherent and stayed close to high-probability paths through the model. Some sentences repeated (for example: \"The favorite excuse...\" appeared\n",
        "twice), indicating the model was consistently choosing the most probable continuations. The average perplexity is 1.45.\n",
        "The Temperature 1.0 (balanced) maintained the model's original probability distribution and produced slightly higher perplexity than temp = 0.2. The sentences were diverse and natural with good balance between coherence and variety. This represents \"true\" sampling from the model without any probability reshaping. The average perplexity was 1.49.\n",
        "This temperature 5.0 (High) produced the highest average perplexity, indicating the generated sentences were less typical under the model's learned distribution. While still mostly coherent, the model explored more unlikely word combinations, resulting in more creative but occasionally awkward constructions.The average perplexity was 1.60.\n",
        "\n"
      ]
    },
    {
      "cell_type": "markdown",
      "metadata": {
        "id": "QfFsUCp74tsx"
      },
      "source": [
        "## Problem Four:  Beam Search\n",
        "\n",
        "For our final problem, we'll implement a common technique for searching for sentences with low perplexity.\n",
        "\n",
        "**Beam search** is a pragmatic middle ground between **greedy decoding** (pick the single best next word each step) and **exhaustive search** (try all sequences).\n",
        "\n",
        "![Screenshot 2025-10-04 at 12.12.48 PM.png](attachment:224d4777-a5b9-4360-9cc3-5651367faeb0.png)\n",
        "\n",
        "The basic idea is reasonably simple:\n",
        "\n",
        "Maintain a list of at most **B** incomplete sentences, sorted in **decreasing order of their ALP (best at the top)**; you'll need to calculate this during the sort, or perhaps store a triple\n",
        "> (list-of-tokens, sum-of-log-probs, ALP-so-far)\n",
        "\n",
        "where\n",
        "> ALP-so-far =sum-of-log-probs/(len(list-of-tokens)-1)\n",
        "\n",
        "**In detail:**\n",
        "\n",
        "Initialize a priority queue `PQ = [ ['<s>'],0.0] ]`\n",
        "\n",
        "1. In each loop:\n",
        "    - Generate **C** continuations of each of the partial sentences in the queue **PQ** (optional but useful: remove duplicates)\n",
        "    - Remove any completed sentences, calculate their perplexity and store them in a separate list `Finished`.\n",
        "    - Sort the list of remaining continuations and delete all but the best **B** candidates.\n",
        "    - Replace **PQ** with this list of new candidates.\n",
        "3. Repeat from step 1 until you get 10 finished sentences in `Finished` or simply iterate 100 times.  \n",
        "4. Sort the list `Finished` in increasing order of perplexity and print it out.\n",
        "\n",
        "  This preserves multiple promising continuations (unlike greedy), but avoids the combinatorial blow-up of exhaustive search. Using **log-probs** makes scoring stable; using a **length-normalized** score (ALP) prevents the search from favoring short fragments. Beam width (B) controls the trade-off: larger (B) explores more but costs more time and can still prune good paths too early. Continuation width (C) controls how widely you search possible continuations, and uses temperature.\n",
        "\n",
        "**ToDo:**\n",
        "\n",
        "- Implement beam search as described, using $B=C=5$.\n",
        "- Experiment with temperatures of 0.2, 1.0, and 5.0 as before.\n",
        "- Print out your finished sentences with perplexities.\n",
        "- Answer the graded questions."
      ]
    },
    {
      "cell_type": "code",
      "execution_count": 88,
      "metadata": {
        "id": "PNCd8dKU4tsx",
        "outputId": "a7a01598-855b-4495-d41a-557b82dcd5eb",
        "colab": {
          "base_uri": "https://localhost:8080/"
        }
      },
      "outputs": [
        {
          "output_type": "stream",
          "name": "stdout",
          "text": [
            "Testing beam search with B=5, C=5, temp=1.0:\n",
            "\n",
            "Rank 1 (Perplexity = 1.2592):\n",
            "As autumn starts its annual sweep, few americans and canadians realize how fortunate they are in having the world's finest fall coloring.\n",
            "\n",
            "Rank 2 (Perplexity = 1.2789):\n",
            "As autumn starts its annual sweep, few americans and canadians realize how fortunate they are free from the necessity of manipulating objects;;\n",
            "\n",
            "Rank 3 (Perplexity = 1.3130):\n",
            "As autumn starts its annual sweep, few americans and canadians realize how fortunate they are in having the world.\n",
            "\n",
            "Rank 4 (Perplexity = 1.3207):\n",
            "As autumn starts its annual sweep, few americans and canadians realize how fortunate they are free from the farm buildings.\n",
            "\n",
            "Rank 5 (Perplexity = 1.5029):\n",
            "It was a post of honor, held inviolate for him;;\n",
            "\n"
          ]
        }
      ],
      "source": [
        "# Your code here; add as many cells as you wish\n",
        "# Beam Search Implementation\n",
        "\n",
        "# Beam search to find low-perplexity sentences.\n",
        "# Parameters:\n",
        "# - plm: probability language model\n",
        "# - N: N-gram order (3 for trigrams)\n",
        "# - B: beam width (number of candidates to keep)\n",
        "# - C: continuation width (number of continuations per candidate)\n",
        "# - temp: temperature for sampling\n",
        "# - max_iterations: maximum number of iterations\n",
        "# - target_sentences: stop when we have this many finished sentences\n",
        "# Returns:\n",
        "# - List of (tokens, perplexity) tuples sorted by perplexity\n",
        "\n",
        "def beam_search(plm, N=3, B=5, C=5, temp=1.0, max_iterations=100, target_sentences=10):\n",
        "    # Priority queue: list of (tokens, sum_log_probs, alp)\n",
        "    # where alp = sum_log_probs / (len(tokens) - 1)\n",
        "    pq = [(['<s>'], 0.0, 0.0)]  # (tokens, sum_log_probs, alp)\n",
        "    finished = []\n",
        "\n",
        "    for iteration in range(max_iterations):\n",
        "        if len(finished) >= target_sentences:\n",
        "            break\n",
        "\n",
        "        # Generate C continuations for each candidate in PQ\n",
        "        candidates = []\n",
        "\n",
        "        for tokens, sum_log_probs, _ in pq:\n",
        "            # Skip if finished\n",
        "            if tokens[-1] == '</s>':\n",
        "                continue\n",
        "\n",
        "            # Determine left context\n",
        "            context_size = min(N - 1, len(tokens))\n",
        "            lcontext = tuple(tokens[-context_size:]) if context_size > 0 else tuple()\n",
        "\n",
        "            # Generate C continuations\n",
        "            for _ in range(C):\n",
        "                next_word, true_log_prob, context_used = get_next_word_with_log_prob(\n",
        "                    lcontext, plm, temp=temp\n",
        "                )\n",
        "\n",
        "                # Create new candidate\n",
        "                new_tokens = tokens + [next_word]\n",
        "                new_sum = sum_log_probs + true_log_prob\n",
        "                # Don't count first <s>\n",
        "                new_alp = new_sum / (len(new_tokens) - 1)\n",
        "\n",
        "                candidates.append((new_tokens, new_sum, new_alp))\n",
        "\n",
        "        # Remove duplicates (same token sequence)\n",
        "        # Convert to tuple for hashing\n",
        "        unique_candidates = {}\n",
        "        for tokens, sum_lp, alp in candidates:\n",
        "            key = tuple(tokens)\n",
        "            if key not in unique_candidates:\n",
        "                unique_candidates[key] = (tokens, sum_lp, alp)\n",
        "\n",
        "        candidates = list(unique_candidates.values())\n",
        "\n",
        "        # Separate finished from unfinished\n",
        "        new_pq = []\n",
        "        for tokens, sum_lp, alp in candidates:\n",
        "            if tokens[-1] == '</s>':\n",
        "                # Calculate final perplexity\n",
        "                n_predicted = len(tokens) - 1\n",
        "                final_alp = sum_lp / n_predicted\n",
        "                perplexity = np.exp(-final_alp)\n",
        "                finished.append((tokens, perplexity))\n",
        "            else:\n",
        "                new_pq.append((tokens, sum_lp, alp))\n",
        "\n",
        "        # Sort by ALP (higher is better, so reverse)\n",
        "        new_pq.sort(key=lambda x: x[2], reverse=True)\n",
        "\n",
        "        # Keep only top B candidates\n",
        "        pq = new_pq[:B]\n",
        "\n",
        "        # Stop if no more candidates\n",
        "        if len(pq) == 0:\n",
        "            break\n",
        "\n",
        "    # Sort finished sentences by perplexity (lower is better)\n",
        "    finished.sort(key=lambda x: x[1])\n",
        "\n",
        "    return finished\n",
        "\n",
        "print(\"Testing beam search with B=5, C=5, temp=1.0:\")\n",
        "print()\n",
        "test_results = beam_search(plm, N=3, B=5, C=5, temp=1.0, max_iterations=50, target_sentences=5)\n",
        "\n",
        "for i, (tokens, pp) in enumerate(test_results[:5]):\n",
        "    print(f\"Rank {i+1} (Perplexity = {pp:.4f}):\")\n",
        "    print_sentence(tokens)\n",
        "    print()"
      ]
    },
    {
      "cell_type": "code",
      "source": [
        "# Experiment 1: Beam Search with Temperature = 0.2\n",
        "print(\"Beam Search - Temperature = 0.2 (Low)\")\n",
        "print(\"B=5, C=5\")\n",
        "print(\"-\" * 80)\n",
        "print()\n",
        "\n",
        "results_beam_02 = beam_search(plm, N=3, B=5, C=5, temp=0.2, max_iterations=100, target_sentences=10)\n",
        "\n",
        "print(f\"Found {len(results_beam_02)} sentences\\n\")\n",
        "print(\"Top 10 sentences by perplexity:\")\n",
        "print()\n",
        "\n",
        "for i, (tokens, pp) in enumerate(results_beam_02[:10]):\n",
        "    print(f\"Rank {i+1} (Perplexity = {pp:.4f}):\")\n",
        "    print_sentence(tokens)\n",
        "    print()\n",
        "\n",
        "if len(results_beam_02) > 0:\n",
        "    avg_pp = np.mean([pp for _, pp in results_beam_02[:10]])\n",
        "    print(f\"Average perplexity (top 10): {avg_pp:.4f}\")\n",
        "    print()"
      ],
      "metadata": {
        "id": "4EcCoyryTfpe",
        "outputId": "8704eb1a-a67b-42aa-95f6-e18d8f6eb85f",
        "colab": {
          "base_uri": "https://localhost:8080/"
        }
      },
      "execution_count": 89,
      "outputs": [
        {
          "output_type": "stream",
          "name": "stdout",
          "text": [
            "Beam Search - Temperature = 0.2 (Low)\n",
            "B=5, C=5\n",
            "--------------------------------------------------------------------------------\n",
            "\n",
            "Found 10 sentences\n",
            "\n",
            "Top 10 sentences by perplexity:\n",
            "\n",
            "Rank 1 (Perplexity = 1.2589):\n",
            "The president knew that a confrontation with mr. khrushchev sooner or later probably was inevitable and even desirable.\n",
            "\n",
            "Rank 2 (Perplexity = 1.3688):\n",
            "`` we must keep the bloodstream of new jersey clean'', watching to see that they do not break their parole and that they also learn to readjust to society.\n",
            "\n",
            "Rank 3 (Perplexity = 1.3895):\n",
            "The grateful way she looked at morgan made him ashamed of himself.\n",
            "\n",
            "Rank 4 (Perplexity = 1.4236):\n",
            "`` let me stay and take the pictures you wanted, mamma.\n",
            "\n",
            "Rank 5 (Perplexity = 1.4452):\n",
            "`` we must keep the bloodstream of new jersey clean'', watching to see that they also learn to readjust to society.\n",
            "\n",
            "Rank 6 (Perplexity = 1.4456):\n",
            "`` we must keep the bloodstream of new jersey clean'', watching to see in paris a year ago.\n",
            "\n",
            "Rank 7 (Perplexity = 1.4627):\n",
            "`` we must keep the bloodstream of new jersey clean'', watching to see that they did not know how things would develop.\n",
            "\n",
            "Rank 8 (Perplexity = 1.6728):\n",
            "`` we must keep the bloodstream of new jersey clean'', the other the villain.\n",
            "\n",
            "Rank 9 (Perplexity = 1.7690):\n",
            "`` we must keep the bloodstream of new jersey in the closet.\n",
            "\n",
            "Rank 10 (Perplexity = 1.9512):\n",
            "`` mother'', herr schaffner said.\n",
            "\n",
            "Average perplexity (top 10): 1.5188\n",
            "\n"
          ]
        }
      ]
    },
    {
      "cell_type": "code",
      "source": [
        "# Experiment 2: Beam Search with Temperature = 1.0\n",
        "print(\"Beam Search - Temperature = 1.0 (Balanced)\")\n",
        "print(\"B=5, C=5\")\n",
        "print(\"-\" * 80)\n",
        "print()\n",
        "\n",
        "results_beam_10 = beam_search(plm, N=3, B=5, C=5, temp=1.0, max_iterations=100, target_sentences=10)\n",
        "\n",
        "print(f\"Found {len(results_beam_10)} sentences\\n\")\n",
        "print(\"Top 10 sentences by perplexity:\")\n",
        "print()\n",
        "\n",
        "for i, (tokens, pp) in enumerate(results_beam_10[:10]):\n",
        "    print(f\"Rank {i+1} (Perplexity = {pp:.4f}):\")\n",
        "    print_sentence(tokens)\n",
        "    print()\n",
        "\n",
        "if len(results_beam_10) > 0:\n",
        "    avg_pp = np.mean([pp for _, pp in results_beam_10[:10]])\n",
        "    print(f\"Average perplexity (top 10): {avg_pp:.4f}\")\n",
        "    print()"
      ],
      "metadata": {
        "id": "YoUiyJlETjpr",
        "outputId": "0ddbeb3f-7148-4637-cb80-7bc9386363b9",
        "colab": {
          "base_uri": "https://localhost:8080/"
        }
      },
      "execution_count": 90,
      "outputs": [
        {
          "output_type": "stream",
          "name": "stdout",
          "text": [
            "Beam Search - Temperature = 1.0 (Balanced)\n",
            "B=5, C=5\n",
            "--------------------------------------------------------------------------------\n",
            "\n",
            "Found 10 sentences\n",
            "\n",
            "Top 10 sentences by perplexity:\n",
            "\n",
            "Rank 1 (Perplexity = 1.1923):\n",
            "He was not enthusiastic over the newly acquired claude lorrain, but reminisced with pleasure over a poussin exhibit he had been raids on naples -- but naples was pretty far north on the opposite coast.\n",
            "\n",
            "Rank 2 (Perplexity = 1.2174):\n",
            "Berman, whose fame has rested in recent years on his skills as a night club monologist, proved himself very much at home in musical comedy.\n",
            "\n",
            "Rank 3 (Perplexity = 1.2314):\n",
            "He was not enthusiastic over the newly acquired claude lorrain, but reminisced with pleasure over a poussin exhibit he had been able to see that they did not know how his work would sound when done by professional musicians and by trained voices.\n",
            "\n",
            "Rank 4 (Perplexity = 1.2754):\n",
            "He was not enthusiastic over the newly acquired claude lorrain, but reminisced with pleasure over a poussin exhibit he had been able to see in paris a year ago.\n",
            "\n",
            "Rank 5 (Perplexity = 1.2889):\n",
            "He was not enthusiastic over the newly acquired claude lorrain, but reminisced with pleasure over a poussin exhibit he had been able to see that they also learn to readjust to society.\n",
            "\n",
            "Rank 6 (Perplexity = 1.3047):\n",
            "He was not enthusiastic over the newly acquired claude lorrain, but reminisced with pleasure over a poussin exhibit he had been able to see that they did not know how things would develop.\n",
            "\n",
            "Rank 7 (Perplexity = 1.3300):\n",
            "Berman, whose fame has rested in recent years on his skills as a source of policy guidance.\n",
            "\n",
            "Rank 8 (Perplexity = 1.3876):\n",
            "Efforts such as the case may be, shall find that any person is entitled to any such payment, after such payment.\n",
            "\n",
            "Rank 9 (Perplexity = 1.4016):\n",
            "Efforts such as the case may be, shall find that any person is entitled to any such payment.\n",
            "\n",
            "Rank 10 (Perplexity = 1.7241):\n",
            "He saw the suitcase, which julia was holding.\n",
            "\n",
            "Average perplexity (top 10): 1.3353\n",
            "\n"
          ]
        }
      ]
    },
    {
      "cell_type": "code",
      "source": [
        "# Experiment 3: Beam Search with Temperature = 5.0\n",
        "print(\"Beam Search - Temperature = 5.0 (High)\")\n",
        "print(\"B=5, C=5\")\n",
        "print(\"-\" * 80)\n",
        "print()\n",
        "\n",
        "results_beam_50 = beam_search(plm, N=3, B=5, C=5, temp=5.0, max_iterations=100, target_sentences=10)\n",
        "\n",
        "print(f\"Found {len(results_beam_50)} sentences\\n\")\n",
        "print(\"Top 10 sentences by perplexity:\")\n",
        "print()\n",
        "\n",
        "for i, (tokens, pp) in enumerate(results_beam_50[:10]):\n",
        "    print(f\"Rank {i+1} (Perplexity = {pp:.4f}):\")\n",
        "    print_sentence(tokens)\n",
        "    print()\n",
        "\n",
        "if len(results_beam_50) > 0:\n",
        "    avg_pp = np.mean([pp for _, pp in results_beam_50[:10]])\n",
        "    print(f\"Average perplexity (top 10): {avg_pp:.4f}\")\n",
        "    print()"
      ],
      "metadata": {
        "id": "nnO5FPLhTnB7",
        "outputId": "a327c31d-7495-413a-a49a-4b56ccf56478",
        "colab": {
          "base_uri": "https://localhost:8080/"
        }
      },
      "execution_count": 91,
      "outputs": [
        {
          "output_type": "stream",
          "name": "stdout",
          "text": [
            "Beam Search - Temperature = 5.0 (High)\n",
            "B=5, C=5\n",
            "--------------------------------------------------------------------------------\n",
            "\n",
            "Found 6 sentences\n",
            "\n",
            "Top 10 sentences by perplexity:\n",
            "\n",
            "Rank 1 (Perplexity = 1.2870):\n",
            "After they have developed concepts, they used opaque color throughout, getting solid highlights with active lime white.\n",
            "\n",
            "Rank 2 (Perplexity = 1.3423):\n",
            "Improvement, however, is a mysterious yellowish, waxy substance, chemically a crystalline alcohol.\n",
            "\n",
            "Rank 3 (Perplexity = 1.4236):\n",
            "Or who undertook to set records for remaining erect on a transoceanic jet.\n",
            "\n",
            "Rank 4 (Perplexity = 1.4497):\n",
            "After they have developed concepts, they are in having the world's finest fall coloring.\n",
            "\n",
            "Rank 5 (Perplexity = 1.6120):\n",
            "After they have developed concepts, they are in having the world.\n",
            "\n",
            "Rank 6 (Perplexity = 4.6416):\n",
            "13.\n",
            "\n",
            "Average perplexity (top 10): 1.9594\n",
            "\n"
          ]
        }
      ]
    },
    {
      "cell_type": "code",
      "source": [
        "# Compare all results and find the overall best sentence\n",
        "print(\"Beam Search Across All Temperatures\")\n",
        "print(\"-\" * 60)\n",
        "print()\n",
        "\n",
        "all_beam_results = results_beam_02 + results_beam_10 + results_beam_50\n",
        "\n",
        "# Sort by perplexity\n",
        "all_beam_results.sort(key=lambda x: x[1])\n",
        "\n",
        "print(\"Top 10 sentences overall:\")\n",
        "print()\n",
        "\n",
        "for i, (tokens, pp) in enumerate(all_beam_results[:10]):\n",
        "    print(f\"Rank {i+1} (Perplexity = {pp:.4f}):\")\n",
        "    print_sentence(tokens)\n",
        "    print()\n",
        "\n",
        "# Best sentence\n",
        "if len(all_beam_results) > 0:\n",
        "    best_tokens, best_pp = all_beam_results[0]\n",
        "    print(\"-\" * 50)\n",
        "    print(f\"Best Sentence: (Perplexity = {best_pp:.4f}):\")\n",
        "    print_sentence(best_tokens)"
      ],
      "metadata": {
        "id": "SIxp2L13Tp_Q",
        "outputId": "46519246-8aa9-445d-fea9-9d7e63374884",
        "colab": {
          "base_uri": "https://localhost:8080/"
        }
      },
      "execution_count": 92,
      "outputs": [
        {
          "output_type": "stream",
          "name": "stdout",
          "text": [
            "Beam Search Across All Temperatures\n",
            "------------------------------------------------------------\n",
            "\n",
            "Top 10 sentences overall:\n",
            "\n",
            "Rank 1 (Perplexity = 1.1923):\n",
            "He was not enthusiastic over the newly acquired claude lorrain, but reminisced with pleasure over a poussin exhibit he had been raids on naples -- but naples was pretty far north on the opposite coast.\n",
            "\n",
            "Rank 2 (Perplexity = 1.2174):\n",
            "Berman, whose fame has rested in recent years on his skills as a night club monologist, proved himself very much at home in musical comedy.\n",
            "\n",
            "Rank 3 (Perplexity = 1.2314):\n",
            "He was not enthusiastic over the newly acquired claude lorrain, but reminisced with pleasure over a poussin exhibit he had been able to see that they did not know how his work would sound when done by professional musicians and by trained voices.\n",
            "\n",
            "Rank 4 (Perplexity = 1.2589):\n",
            "The president knew that a confrontation with mr. khrushchev sooner or later probably was inevitable and even desirable.\n",
            "\n",
            "Rank 5 (Perplexity = 1.2754):\n",
            "He was not enthusiastic over the newly acquired claude lorrain, but reminisced with pleasure over a poussin exhibit he had been able to see in paris a year ago.\n",
            "\n",
            "Rank 6 (Perplexity = 1.2870):\n",
            "After they have developed concepts, they used opaque color throughout, getting solid highlights with active lime white.\n",
            "\n",
            "Rank 7 (Perplexity = 1.2889):\n",
            "He was not enthusiastic over the newly acquired claude lorrain, but reminisced with pleasure over a poussin exhibit he had been able to see that they also learn to readjust to society.\n",
            "\n",
            "Rank 8 (Perplexity = 1.3047):\n",
            "He was not enthusiastic over the newly acquired claude lorrain, but reminisced with pleasure over a poussin exhibit he had been able to see that they did not know how things would develop.\n",
            "\n",
            "Rank 9 (Perplexity = 1.3300):\n",
            "Berman, whose fame has rested in recent years on his skills as a source of policy guidance.\n",
            "\n",
            "Rank 10 (Perplexity = 1.3423):\n",
            "Improvement, however, is a mysterious yellowish, waxy substance, chemically a crystalline alcohol.\n",
            "\n",
            "--------------------------------------------------\n",
            "Best Sentence: (Perplexity = 1.1923):\n",
            "He was not enthusiastic over the newly acquired claude lorrain, but reminisced with pleasure over a poussin exhibit he had been raids on naples -- but naples was pretty far north on the opposite coast.\n"
          ]
        }
      ]
    },
    {
      "cell_type": "code",
      "source": [
        "# Compare beam search to random sampling\n",
        "print(\"Beam Search vs Random Sampling\")\n",
        "print(\"-\" * 50)\n",
        "print()\n",
        "\n",
        "# Get best from beam search\n",
        "beam_best_pp = all_beam_results[0][1] if len(all_beam_results) > 0 else float('inf')\n",
        "\n",
        "# Get best from random sampling (from Problem 3)\n",
        "all_random_results = results_temp_02 + results_temp_10 + results_temp_50\n",
        "random_best_pp = min([pp for _, pp in all_random_results])\n",
        "\n",
        "print(f\"Best perplexity from Beam Search:    {beam_best_pp:.4f}\")\n",
        "print(f\"Best perplexity from Random Sampling: {random_best_pp:.4f}\")\n",
        "print()\n",
        "\n",
        "if beam_best_pp < random_best_pp:\n",
        "    improvement = ((random_best_pp - beam_best_pp) / random_best_pp) * 100\n",
        "    print(f\"Beam search found a sentence with {improvement:.1f}% lower perplexity\")\n",
        "else:\n",
        "    print(\"Random sampling found equally good or better sentences\")"
      ],
      "metadata": {
        "id": "XRAM3OW8T0f5",
        "outputId": "d66b2b15-8085-4a46-adc2-9cd55e40ab8f",
        "colab": {
          "base_uri": "https://localhost:8080/"
        }
      },
      "execution_count": 95,
      "outputs": [
        {
          "output_type": "stream",
          "name": "stdout",
          "text": [
            "Beam Search vs Random Sampling\n",
            "--------------------------------------------------\n",
            "\n",
            "Best perplexity from Beam Search:    1.1923\n",
            "Best perplexity from Random Sampling: 1.1938\n",
            "\n",
            "Beam search found a sentence with 0.1% lower perplexity\n"
          ]
        }
      ]
    },
    {
      "cell_type": "markdown",
      "metadata": {
        "id": "z94lBRmW4tsx"
      },
      "source": [
        "### Graded Questions:\n",
        "\n",
        "#### Part 4A: In the next cell, set `a4a` to the sentence with the smallest perplexity generated by beam search. Use `print_sentence(..., do_print=False)`."
      ]
    },
    {
      "cell_type": "code",
      "execution_count": 100,
      "metadata": {
        "id": "o11kjX5i4tsx"
      },
      "outputs": [],
      "source": [
        "# Your answer here\n",
        "# Find the best sentence from beam search\n",
        "if len(all_beam_results) > 0:\n",
        "    best_tokens, best_pp = all_beam_results[0]\n",
        "    a4a = print_sentence(best_tokens, do_print=False)\n",
        "else:\n",
        "    a4a = \"\"\n"
      ]
    },
    {
      "cell_type": "code",
      "execution_count": 101,
      "metadata": {
        "id": "DJH407P44tsx",
        "outputId": "0efe359c-5b15-45b7-da65-4fb12a3b1955",
        "colab": {
          "base_uri": "https://localhost:8080/"
        }
      },
      "outputs": [
        {
          "output_type": "stream",
          "name": "stdout",
          "text": [
            "a4a = He was not enthusiastic over the newly acquired claude lorrain, but reminisced with pleasure over a poussin exhibit he had been raids on naples -- but naples was pretty far north on the opposite coast.\n"
          ]
        }
      ],
      "source": [
        "# Graded Answer\n",
        "# DO NOT change this cell in any way and do not make any other assignments to variable a3a\n",
        "print(f'a4a = {a4a}')\n"
      ]
    },
    {
      "cell_type": "markdown",
      "metadata": {
        "id": "iZBewq144tsy"
      },
      "source": [
        "#### Part 4B:  Set `a4b` to the perplexity for the sentence you provided in Part 4A.\n"
      ]
    },
    {
      "cell_type": "code",
      "execution_count": 102,
      "metadata": {
        "id": "dmSzruLL4tsy"
      },
      "outputs": [],
      "source": [
        "# Your answer here\n",
        "# Get the perplexity from the best sentence\n",
        "if len(all_beam_results) > 0:\n",
        "    best_tokens, best_pp = all_beam_results[0]\n",
        "    a4b = best_pp\n",
        "else:\n",
        "    a4b = float('inf')"
      ]
    },
    {
      "cell_type": "code",
      "execution_count": 103,
      "metadata": {
        "id": "ov3garbc4tsy",
        "outputId": "5c7e348e-107d-43db-adcb-cd4354bd7e4f",
        "colab": {
          "base_uri": "https://localhost:8080/"
        }
      },
      "outputs": [
        {
          "output_type": "stream",
          "name": "stdout",
          "text": [
            "a4b = 1.1923317395780333\n"
          ]
        }
      ],
      "source": [
        "# Graded Answer\n",
        "# DO NOT change this cell in any way and do not make any other assignments to variable a4b in this problem\n",
        "\n",
        "print(f'a4b = {a4b}')\n"
      ]
    },
    {
      "cell_type": "markdown",
      "metadata": {
        "id": "2nnQk6--4tsy"
      },
      "source": [
        "#### Part 4C:  Describe in a few sentences what you observed with the different temperature settings (and try more if you wish!). Which produces the sentences with the best perplexity (you might want to take the average of all 5!).\n",
        "\n",
        "Your answer here:\n",
        "\n",
        "Beam search with low temperature 0.2 (low) produced many similar sentence beginnings particularly variants starting with \"we must keep the bloodstream of new jersey clean\". The search became somewhat trapped in high-probability paths, leading to repetitive outputs. The best sentence had perplexity 1.2589, which is decent but not the overall best. The average perplexity for the top 10 was 1.5188.\n",
        "The temperature 1.0 (balanced) produced the best results overall. The top sentence achieved perplexity 1.1923, the lowest across all experiments. Beam search found several variations of \"He was not enthusiastic over the newly acquired claude lorrain...\" sentences, exploring different continuations systematically. The diversity was much better than temp = 0.2, with 10 distinct completed sentences found. The average perplexity for the top 10 was 1.3353.\n",
        "The high temperature 5.0 produced the worst results, with only 6 finished sentences found within 100 iterations. The beam search struggled because high temperature flattened the probability\n",
        "distribution too much which made it harder to identify and follow promising paths. The sentences were more diverse but had higher perplexity overall. The average perplexity of the top 10 was 1.9594."
      ]
    },
    {
      "cell_type": "markdown",
      "metadata": {
        "id": "nag7WIEh4tsy"
      },
      "source": [
        "## Appendix One: The Brown Corpus\n",
        "\n",
        "The **Brown Corpus of Standard American English** was compiled at **Brown University** by W. Nelson Francis and Henry Kučera in 1961. It was the **first electronic, balanced corpus of English** ever created and contains about **one million words** drawn from **500 written texts** published in the United States in 1961.\n",
        "\n",
        "At the time, this was groundbreaking: instead of studying isolated examples, linguists and computer scientists could analyze the **statistical properties of language** across many genres. The Brown Corpus became a **benchmark dataset** in early computational linguistics, psycholinguistics, and later in natural language processing.\n",
        "\n",
        "### Genres in the Brown Corpus\n",
        "\n",
        "The 500 texts were divided evenly across **15 categories**, each representing a different register or style of writing:\n",
        "\n",
        "* **Press**: reportage, editorials, reviews\n",
        "* **General prose**: popular lore, belles lettres, essays\n",
        "* **Fiction**: adventure, romance, science fiction, mystery, humor\n",
        "* **Learned writing**: academic and scientific publications\n",
        "* **Religious writing**: sermons, expository texts\n",
        "* **Skills and hobbies**: manuals, do-it-yourself, gardening, sports writing\n",
        "* **Government documents**: official reports, public affairs writing\n",
        "* **Miscellaneous**: popularized non-fiction, biography\n",
        "\n",
        "Each category contributes about 2,000 sentences (roughly 80,000 words), ensuring a **balanced sample** of contemporary written English.\n",
        "\n",
        "### Examples of Source Texts\n",
        "\n",
        "While the Brown Corpus does not preserve full books in sequence, the selections were drawn from published works of the time. Examples include:\n",
        "\n",
        "* **Fiction**: pulp magazines, detective novels, romance stories, humorous fiction.\n",
        "* **Press**: articles from major U.S. newspapers and magazines such as *Time* and *Newsweek*.\n",
        "* **Religion**: sermons, Bible commentary, religious essays.\n",
        "* **Academic**: journal articles in history, sociology, psychology, and linguistics.\n",
        "* **Skills and hobbies**: popular magazines like *Popular Mechanics* and *Field & Stream*.\n",
        "\n",
        "The corpus thus reflects a **snapshot of American English in 1961**: how it was written in popular culture, journalism, science, religion, and government.\n",
        "\n",
        "### Why It Matters\n",
        "\n",
        "* **Historical importance**: the first large corpus, setting the stage for all later corpus linguistics.\n",
        "* **Balanced design**: unlike modern web scrapes (e.g., Wikipedia), Brown was carefully curated to capture a **cross-section of genres**.\n",
        "* **Still used today**: it remains a teaching resource for exploring **word frequencies, n-grams, Zipf’s law, and stylistic differences across genres**.\n",
        "\n",
        "### Categories in the Brown Corpus  \n",
        "\n",
        "The Brown Corpus is divided into 15 genres, each with about 80,000 words (for a total of ~1 million). This balance makes it useful for studying stylistic and lexical variation across English.  \n",
        "\n",
        "| Code | Category              | Description / Examples                                  |\n",
        "|------|-----------------------|---------------------------------------------------------|\n",
        "| A    | Press: Reportage      | Straight news reporting; newspaper and magazine articles |\n",
        "| B    | Press: Editorial      | Opinion pieces and editorials from newspapers/magazines |\n",
        "| C    | Press: Reviews        | Reviews of books, plays, music, films                   |\n",
        "| D    | Religion              | Sermons, religious commentary, Bible studies            |\n",
        "| E    | Skills & Hobbies      | How-to manuals, sports, leisure, do-it-yourself         |\n",
        "| F    | Popular Lore          | Popular science, cultural essays, lore                  |\n",
        "| G    | Belles Lettres        | Literary essays, non-fiction with artistic style        |\n",
        "| H    | Miscellaneous         | Biographies, memoirs, other non-fiction                 |\n",
        "| J    | Learned               | Academic and scientific writing                         |\n",
        "| K    | General Fiction       | Short stories and novels, general fiction               |\n",
        "| L    | Mystery & Detective   | Detective and crime fiction                             |\n",
        "| M    | Science Fiction       | Science fiction stories and novels                      |\n",
        "| N    | Adventure & Western   | Adventure stories, Westerns                             |\n",
        "| P    | Romance               | Romantic fiction                                        |\n",
        "| R    | Humor                 | Humorous fiction and essays                             |\n",
        "\n",
        "Together these categories provide a **snapshot of American English in 1961**, from journalism and government reports to pulp fiction and academic writing.  \n"
      ]
    },
    {
      "cell_type": "code",
      "execution_count": 104,
      "metadata": {
        "id": "kCwhghQ24tsy",
        "outputId": "a270671f-6f1e-4fbc-89cf-fddef9074e9e",
        "colab": {
          "base_uri": "https://localhost:8080/"
        }
      },
      "outputs": [
        {
          "output_type": "stream",
          "name": "stdout",
          "text": [
            "0.0\n",
            "-0.6931471805599453\n",
            "-1.0986122886681098\n",
            "-1.3862943611198906\n",
            "-4.605170185988091\n",
            "-23.025850929940457\n"
          ]
        }
      ],
      "source": [
        "for p in [1,1/2,1/3,1/4, 0.01, 1e-10]:\n",
        "          print(math.log(p))"
      ]
    },
    {
      "cell_type": "markdown",
      "metadata": {
        "id": "nDqss7ca4tsy"
      },
      "source": [
        "## Appendix Two: Using Log-Probabilities in N-Gram Models\n",
        "\n",
        "When working with **n-gram language models**, we calculate the probability of a sentence by multiplying the conditional probabilities of each word:\n",
        "\n",
        "$$\n",
        "P(w_1, w_2, \\dots, w_n) = \\prod_{i=1}^n P(w_i \\mid \\text{context})\n",
        "$$\n",
        "\n",
        "### Do we really need logs for the Brown Corpus?\n",
        "\n",
        "In the Brown Corpus, the **longest sentence has 182 tokens**. That’s not very long compared to modern corpora, so you might think multiplying probabilities directly is fine. For example:\n",
        "\n",
        "* If the average conditional probability were around $0.1$, the longest Brown sentence has probability about\n",
        "  $$(0.1)^{182} = 10^{-182},$$\n",
        "  which is still representable in double precision (smallest positive $\\approx 10^{-324}$).\n",
        "\n",
        "* But if the average probability were closer to $0.01$, then\n",
        "  $$(0.01)^{182} = 10^{-364},$$\n",
        "  which would **underflow to 0**.\n",
        "\n",
        "So in some cases you’d be safe, in others not.\n",
        "\n",
        "### Some Examples of Log Probabilities\n",
        "\n",
        "Since probabilities are always in the range $[0,1.0]$, log probabilities are in the range $[-\\infty,0.0]$. Here are\n",
        "some examples of log probabilities (we'll use natural logs, but the base really doesn't matter):\n",
        "\n",
        "    Probability         Log Probability\n",
        "      1.0                 0.0\n",
        "      1/2                -0.6931471805599453\n",
        "      1/3                -1.0986122886681098\n",
        "      1/4                -1.3862943611198906\n",
        "      0.01               -4.605170185988091\n",
        "      1e-10              -23.025850929940457\n",
        "      1e-1000            -2302.5850929940457\n",
        "\n",
        "(To put this in somewhat real terms, suppose you and a friend could both randomly choose an **atom** somewhere in the observable\n",
        "universe: the probability that you both choose the same atom is approximately 1e-80.)\n",
        "\n",
        "### Why we use log-probabilities anyway\n",
        "\n",
        "Even if underflow is not common in Brown sentences, there are three strong reasons to switch to log-space:\n",
        "\n",
        "1. **Smoothing produces tiny probabilities.** With add-one or Kneser–Ney smoothing, many n-grams have very small values, making underflow more likely.\n",
        "2. **Corpus-level calculations.** Perplexity is often computed over *all tokens* in the corpus. With Brown’s ~1M tokens, multiplying raw probabilities is completely impossible.\n",
        "3. **Consistency with NLP practice.** Modern language models (n-gram and neural alike) always work in log-space. Teaching it here ensures the method scales to larger datasets like Shakespeare, WikiText, or web-scale corpora.\n",
        "\n",
        "### The log-space trick\n",
        "\n",
        "Recall how computing in log-space works:\n",
        "\n",
        "- Convert your numbers to logs\n",
        "- Instead of multiplying, add  \n",
        "- Instead of exponentiation, multiply\n",
        "- If you need to sort, or compare using $\\lt$ or $\\le$, just do it in log-space (since it is monotonic, i.e., preserves order)\n",
        "- Convert back to normal if you want to print it out in human-readable form as a metric or use it with code that expects normal probabilities (e.g., softmax, or sampling).\n",
        "\n",
        "Thus, instead of multiplying probabilities, we sum log probabilities:\n",
        "\n",
        "$$\n",
        "\\log P(w_1, w_2, \\dots, w_n) = \\sum_{i=1}^n \\log P(w_i \\mid \\text{context})\n",
        "$$\n",
        "\n",
        "This prevents underflow, keeps values in a manageable numeric range, and makes computation easier.\n",
        "\n",
        "* **Ranking:** For decoding or beam search, you can use log-probabilities directly, since $\\log$ is monotonic. No conversion back is needed.\n",
        "* **Perplexity:**\n",
        "\n",
        "$$\n",
        "\\text{PP} = \\exp\\left(-\\tfrac{1}{n} \\sum_{i=1}^n \\log P(w_i \\mid \\text{context})\\right)\n",
        "$$\n",
        "\n",
        "Here the exponential is applied only at the end.\n",
        "\n",
        "* **Sampling:** To draw the next word, convert log-probabilities back with `exp()` to normalize.\n",
        "\n",
        "---\n",
        "\n",
        "✅ **TL;DR Summary:** In the Brown Corpus, you *might* get away with raw probabilities for single sentences, but log-space is essential once you apply smoothing, compute perplexity over the whole corpus, or move to larger datasets. It’s also the standard method in NLP, so it’s best to learn it now.\n",
        "\n"
      ]
    }
  ],
  "metadata": {
    "kernelspec": {
      "display_name": "Python 3",
      "name": "python3"
    },
    "language_info": {
      "codemirror_mode": {
        "name": "ipython",
        "version": 3
      },
      "file_extension": ".py",
      "mimetype": "text/x-python",
      "name": "python",
      "nbconvert_exporter": "python",
      "pygments_lexer": "ipython3",
      "version": "3.10.18"
    },
    "colab": {
      "provenance": [],
      "gpuType": "A100",
      "include_colab_link": true
    },
    "accelerator": "GPU"
  },
  "nbformat": 4,
  "nbformat_minor": 0
}